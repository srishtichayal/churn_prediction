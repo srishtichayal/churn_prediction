{
 "cells": [
  {
   "cell_type": "markdown",
   "id": "d6dfb2b9",
   "metadata": {},
   "source": [
    "# TELECOM CHURN PREDICTION USING XGBOOST\n",
    "\n",
    "## INTRODUCTION\n",
    "In this project, we developed a predictive model for customer churn using the XGBoost algorithm, known for its accuracy and efficiency on structured data. To interpret the model's decisions and identify the most influential features driving churn, we used SHAP (SHapley Additive exPlanations), which provided clear insights into feature importance and model behavior.\n",
    "\n",
    "\n",
    "### CREATING THE DATAFRAME\n",
    "I have used a publicly available dataset from Hugging Face to train and evaluate the model. "
   ]
  },
  {
   "cell_type": "code",
   "execution_count": 319,
   "id": "b3222116",
   "metadata": {},
   "outputs": [
    {
     "data": {
      "text/html": [
       "<div>\n",
       "<style scoped>\n",
       "    .dataframe tbody tr th:only-of-type {\n",
       "        vertical-align: middle;\n",
       "    }\n",
       "\n",
       "    .dataframe tbody tr th {\n",
       "        vertical-align: top;\n",
       "    }\n",
       "\n",
       "    .dataframe thead th {\n",
       "        text-align: right;\n",
       "    }\n",
       "</style>\n",
       "<table border=\"1\" class=\"dataframe\">\n",
       "  <thead>\n",
       "    <tr style=\"text-align: right;\">\n",
       "      <th></th>\n",
       "      <th>Age</th>\n",
       "      <th>Avg Monthly GB Download</th>\n",
       "      <th>Avg Monthly Long Distance Charges</th>\n",
       "      <th>Churn Category</th>\n",
       "      <th>Churn Reason</th>\n",
       "      <th>Churn Score</th>\n",
       "      <th>City</th>\n",
       "      <th>CLTV</th>\n",
       "      <th>Contract</th>\n",
       "      <th>Country</th>\n",
       "      <th>...</th>\n",
       "      <th>Tenure in Months</th>\n",
       "      <th>Total Charges</th>\n",
       "      <th>Total Extra Data Charges</th>\n",
       "      <th>Total Long Distance Charges</th>\n",
       "      <th>Total Refunds</th>\n",
       "      <th>Total Revenue</th>\n",
       "      <th>Under 30</th>\n",
       "      <th>Unlimited Data</th>\n",
       "      <th>Zip Code</th>\n",
       "      <th>Churn</th>\n",
       "    </tr>\n",
       "  </thead>\n",
       "  <tbody>\n",
       "    <tr>\n",
       "      <th>0</th>\n",
       "      <td>72</td>\n",
       "      <td>4</td>\n",
       "      <td>19.44</td>\n",
       "      <td>NaN</td>\n",
       "      <td>NaN</td>\n",
       "      <td>51</td>\n",
       "      <td>San Mateo</td>\n",
       "      <td>4849</td>\n",
       "      <td>Two Year</td>\n",
       "      <td>United States</td>\n",
       "      <td>...</td>\n",
       "      <td>25</td>\n",
       "      <td>2191.15</td>\n",
       "      <td>0</td>\n",
       "      <td>486.00</td>\n",
       "      <td>0.0</td>\n",
       "      <td>2677.15</td>\n",
       "      <td>0</td>\n",
       "      <td>1</td>\n",
       "      <td>94403</td>\n",
       "      <td>0</td>\n",
       "    </tr>\n",
       "    <tr>\n",
       "      <th>1</th>\n",
       "      <td>27</td>\n",
       "      <td>59</td>\n",
       "      <td>45.62</td>\n",
       "      <td>NaN</td>\n",
       "      <td>NaN</td>\n",
       "      <td>27</td>\n",
       "      <td>Sutter Creek</td>\n",
       "      <td>3715</td>\n",
       "      <td>Month-to-Month</td>\n",
       "      <td>United States</td>\n",
       "      <td>...</td>\n",
       "      <td>35</td>\n",
       "      <td>3418.20</td>\n",
       "      <td>0</td>\n",
       "      <td>1596.70</td>\n",
       "      <td>0.0</td>\n",
       "      <td>5014.90</td>\n",
       "      <td>1</td>\n",
       "      <td>1</td>\n",
       "      <td>95685</td>\n",
       "      <td>0</td>\n",
       "    </tr>\n",
       "    <tr>\n",
       "      <th>2</th>\n",
       "      <td>59</td>\n",
       "      <td>0</td>\n",
       "      <td>16.07</td>\n",
       "      <td>NaN</td>\n",
       "      <td>NaN</td>\n",
       "      <td>59</td>\n",
       "      <td>Santa Cruz</td>\n",
       "      <td>5092</td>\n",
       "      <td>Month-to-Month</td>\n",
       "      <td>United States</td>\n",
       "      <td>...</td>\n",
       "      <td>46</td>\n",
       "      <td>851.20</td>\n",
       "      <td>0</td>\n",
       "      <td>739.22</td>\n",
       "      <td>0.0</td>\n",
       "      <td>1590.42</td>\n",
       "      <td>0</td>\n",
       "      <td>0</td>\n",
       "      <td>95064</td>\n",
       "      <td>0</td>\n",
       "    </tr>\n",
       "    <tr>\n",
       "      <th>3</th>\n",
       "      <td>25</td>\n",
       "      <td>27</td>\n",
       "      <td>0.00</td>\n",
       "      <td>NaN</td>\n",
       "      <td>NaN</td>\n",
       "      <td>49</td>\n",
       "      <td>Brea</td>\n",
       "      <td>2068</td>\n",
       "      <td>One Year</td>\n",
       "      <td>United States</td>\n",
       "      <td>...</td>\n",
       "      <td>27</td>\n",
       "      <td>1246.40</td>\n",
       "      <td>30</td>\n",
       "      <td>0.00</td>\n",
       "      <td>0.0</td>\n",
       "      <td>1276.40</td>\n",
       "      <td>1</td>\n",
       "      <td>0</td>\n",
       "      <td>92823</td>\n",
       "      <td>0</td>\n",
       "    </tr>\n",
       "    <tr>\n",
       "      <th>4</th>\n",
       "      <td>31</td>\n",
       "      <td>21</td>\n",
       "      <td>17.22</td>\n",
       "      <td>Dissatisfaction</td>\n",
       "      <td>Network reliability</td>\n",
       "      <td>88</td>\n",
       "      <td>San Jose</td>\n",
       "      <td>4026</td>\n",
       "      <td>One Year</td>\n",
       "      <td>United States</td>\n",
       "      <td>...</td>\n",
       "      <td>58</td>\n",
       "      <td>3563.80</td>\n",
       "      <td>0</td>\n",
       "      <td>998.76</td>\n",
       "      <td>0.0</td>\n",
       "      <td>4562.56</td>\n",
       "      <td>0</td>\n",
       "      <td>1</td>\n",
       "      <td>95117</td>\n",
       "      <td>1</td>\n",
       "    </tr>\n",
       "  </tbody>\n",
       "</table>\n",
       "<p>5 rows × 52 columns</p>\n",
       "</div>"
      ],
      "text/plain": [
       "   Age  Avg Monthly GB Download  Avg Monthly Long Distance Charges  \\\n",
       "0   72                        4                              19.44   \n",
       "1   27                       59                              45.62   \n",
       "2   59                        0                              16.07   \n",
       "3   25                       27                               0.00   \n",
       "4   31                       21                              17.22   \n",
       "\n",
       "    Churn Category         Churn Reason  Churn Score          City  CLTV  \\\n",
       "0              NaN                  NaN           51     San Mateo  4849   \n",
       "1              NaN                  NaN           27  Sutter Creek  3715   \n",
       "2              NaN                  NaN           59    Santa Cruz  5092   \n",
       "3              NaN                  NaN           49          Brea  2068   \n",
       "4  Dissatisfaction  Network reliability           88      San Jose  4026   \n",
       "\n",
       "         Contract        Country  ... Tenure in Months Total Charges  \\\n",
       "0        Two Year  United States  ...               25       2191.15   \n",
       "1  Month-to-Month  United States  ...               35       3418.20   \n",
       "2  Month-to-Month  United States  ...               46        851.20   \n",
       "3        One Year  United States  ...               27       1246.40   \n",
       "4        One Year  United States  ...               58       3563.80   \n",
       "\n",
       "   Total Extra Data Charges  Total Long Distance Charges Total Refunds  \\\n",
       "0                         0                       486.00           0.0   \n",
       "1                         0                      1596.70           0.0   \n",
       "2                         0                       739.22           0.0   \n",
       "3                        30                         0.00           0.0   \n",
       "4                         0                       998.76           0.0   \n",
       "\n",
       "   Total Revenue Under 30 Unlimited Data  Zip Code  Churn  \n",
       "0        2677.15        0              1     94403      0  \n",
       "1        5014.90        1              1     95685      0  \n",
       "2        1590.42        0              0     95064      0  \n",
       "3        1276.40        1              0     92823      0  \n",
       "4        4562.56        0              1     95117      1  \n",
       "\n",
       "[5 rows x 52 columns]"
      ]
     },
     "execution_count": 319,
     "metadata": {},
     "output_type": "execute_result"
    }
   ],
   "source": [
    "import pandas as pd\n",
    "\n",
    "url = \"https://huggingface.co/datasets/aai510-group1/telco-customer-churn/resolve/c18fe6295a6ca80ca26627a6627c6f11ccd21d86/train.csv\"\n",
    "\n",
    "#Load directly into a DataFrame\n",
    "df = pd.read_csv(url)\n",
    "\n",
    "#View a sample\n",
    "df.head()"
   ]
  },
  {
   "cell_type": "code",
   "execution_count": 320,
   "id": "cbffea15",
   "metadata": {},
   "outputs": [
    {
     "data": {
      "text/plain": [
       "(4225, 52)"
      ]
     },
     "execution_count": 320,
     "metadata": {},
     "output_type": "execute_result"
    }
   ],
   "source": [
    "df.shape"
   ]
  },
  {
   "cell_type": "markdown",
   "id": "e0408374",
   "metadata": {},
   "source": [
    "### DATA PRE-PROCESSING\n",
    "This dataset consists of 4225 rows and 52 features. I used df.info() to gain insights into the data types of each column, which helped guide my preprocessing steps. Based on this, I identified and appropriately handled numerical, categorical, and missing data such as dropping irrelevant columns, encoding categorical variables, and treating high-cardinality features to prepare the data for modeling."
   ]
  },
  {
   "cell_type": "code",
   "execution_count": 249,
   "id": "779b1916",
   "metadata": {},
   "outputs": [
    {
     "name": "stdout",
     "output_type": "stream",
     "text": [
      "<class 'pandas.core.frame.DataFrame'>\n",
      "RangeIndex: 4225 entries, 0 to 4224\n",
      "Data columns (total 52 columns):\n",
      " #   Column                             Non-Null Count  Dtype  \n",
      "---  ------                             --------------  -----  \n",
      " 0   Age                                4225 non-null   int64  \n",
      " 1   Avg Monthly GB Download            4225 non-null   int64  \n",
      " 2   Avg Monthly Long Distance Charges  4225 non-null   float64\n",
      " 3   Churn Category                     1121 non-null   object \n",
      " 4   Churn Reason                       1121 non-null   object \n",
      " 5   Churn Score                        4225 non-null   int64  \n",
      " 6   City                               4225 non-null   object \n",
      " 7   CLTV                               4225 non-null   int64  \n",
      " 8   Contract                           4225 non-null   object \n",
      " 9   Country                            4225 non-null   object \n",
      " 10  Customer ID                        4225 non-null   object \n",
      " 11  Customer Status                    4225 non-null   object \n",
      " 12  Dependents                         4225 non-null   int64  \n",
      " 13  Device Protection Plan             4225 non-null   int64  \n",
      " 14  Gender                             4225 non-null   object \n",
      " 15  Internet Service                   4225 non-null   int64  \n",
      " 16  Internet Type                      3339 non-null   object \n",
      " 17  Lat Long                           4225 non-null   object \n",
      " 18  Latitude                           4225 non-null   float64\n",
      " 19  Longitude                          4225 non-null   float64\n",
      " 20  Married                            4225 non-null   int64  \n",
      " 21  Monthly Charge                     4225 non-null   float64\n",
      " 22  Multiple Lines                     4225 non-null   int64  \n",
      " 23  Number of Dependents               4225 non-null   int64  \n",
      " 24  Number of Referrals                4225 non-null   int64  \n",
      " 25  Offer                              1901 non-null   object \n",
      " 26  Online Backup                      4225 non-null   int64  \n",
      " 27  Online Security                    4225 non-null   int64  \n",
      " 28  Paperless Billing                  4225 non-null   int64  \n",
      " 29  Partner                            4225 non-null   int64  \n",
      " 30  Payment Method                     4225 non-null   object \n",
      " 31  Phone Service                      4225 non-null   int64  \n",
      " 32  Population                         4225 non-null   int64  \n",
      " 33  Premium Tech Support               4225 non-null   int64  \n",
      " 34  Quarter                            4225 non-null   object \n",
      " 35  Referred a Friend                  4225 non-null   int64  \n",
      " 36  Satisfaction Score                 4225 non-null   int64  \n",
      " 37  Senior Citizen                     4225 non-null   int64  \n",
      " 38  State                              4225 non-null   object \n",
      " 39  Streaming Movies                   4225 non-null   int64  \n",
      " 40  Streaming Music                    4225 non-null   int64  \n",
      " 41  Streaming TV                       4225 non-null   int64  \n",
      " 42  Tenure in Months                   4225 non-null   int64  \n",
      " 43  Total Charges                      4225 non-null   float64\n",
      " 44  Total Extra Data Charges           4225 non-null   int64  \n",
      " 45  Total Long Distance Charges        4225 non-null   float64\n",
      " 46  Total Refunds                      4225 non-null   float64\n",
      " 47  Total Revenue                      4225 non-null   float64\n",
      " 48  Under 30                           4225 non-null   int64  \n",
      " 49  Unlimited Data                     4225 non-null   int64  \n",
      " 50  Zip Code                           4225 non-null   int64  \n",
      " 51  Churn                              4225 non-null   int64  \n",
      "dtypes: float64(8), int64(30), object(14)\n",
      "memory usage: 1.7+ MB\n"
     ]
    }
   ],
   "source": [
    "df.info()"
   ]
  },
  {
   "cell_type": "code",
   "execution_count": 250,
   "id": "5d659741",
   "metadata": {},
   "outputs": [
    {
     "data": {
      "text/plain": [
       "1594"
      ]
     },
     "execution_count": 250,
     "metadata": {},
     "output_type": "execute_result"
    }
   ],
   "source": [
    "# The columns 'Churn Category', 'Churn Reason', 'Internet Type', and 'Offer' contain some missing (null) values.\n",
    "\n",
    "# The 'Zip Code' column is currently represented as integers, but they should be treated as categorical variables instead.\n",
    "# Let's examine the number of unique zip codes to assess cardinality.\n",
    "unique_zipcodes = len(df[\"Zip Code\"].unique())\n",
    "unique_zipcodes"
   ]
  },
  {
   "cell_type": "code",
   "execution_count": 251,
   "id": "5ee22b0d",
   "metadata": {},
   "outputs": [],
   "source": [
    "#There are 1594 unique zip codes(Categories), so we encode them using label encoding\n",
    "from sklearn.preprocessing import LabelEncoder\n",
    "\n",
    "le = LabelEncoder()\n",
    "df[\"Zip Code\"] = le.fit_transform(df[\"Zip Code\"].astype(str))  #Convert to str"
   ]
  },
  {
   "cell_type": "code",
   "execution_count": 114,
   "id": "ee465d59",
   "metadata": {},
   "outputs": [
    {
     "data": {
      "text/html": [
       "<div>\n",
       "<style scoped>\n",
       "    .dataframe tbody tr th:only-of-type {\n",
       "        vertical-align: middle;\n",
       "    }\n",
       "\n",
       "    .dataframe tbody tr th {\n",
       "        vertical-align: top;\n",
       "    }\n",
       "\n",
       "    .dataframe thead th {\n",
       "        text-align: right;\n",
       "    }\n",
       "</style>\n",
       "<table border=\"1\" class=\"dataframe\">\n",
       "  <thead>\n",
       "    <tr style=\"text-align: right;\">\n",
       "      <th></th>\n",
       "      <th>Age</th>\n",
       "      <th>Avg Monthly GB Download</th>\n",
       "      <th>Avg Monthly Long Distance Charges</th>\n",
       "      <th>Churn Category</th>\n",
       "      <th>Churn Reason</th>\n",
       "      <th>Churn Score</th>\n",
       "      <th>City</th>\n",
       "      <th>CLTV</th>\n",
       "      <th>Contract</th>\n",
       "      <th>Country</th>\n",
       "      <th>...</th>\n",
       "      <th>Tenure in Months</th>\n",
       "      <th>Total Charges</th>\n",
       "      <th>Total Extra Data Charges</th>\n",
       "      <th>Total Long Distance Charges</th>\n",
       "      <th>Total Refunds</th>\n",
       "      <th>Total Revenue</th>\n",
       "      <th>Under 30</th>\n",
       "      <th>Unlimited Data</th>\n",
       "      <th>Zip Code</th>\n",
       "      <th>Churn</th>\n",
       "    </tr>\n",
       "  </thead>\n",
       "  <tbody>\n",
       "    <tr>\n",
       "      <th>0</th>\n",
       "      <td>72</td>\n",
       "      <td>4</td>\n",
       "      <td>19.44</td>\n",
       "      <td>NaN</td>\n",
       "      <td>NaN</td>\n",
       "      <td>51</td>\n",
       "      <td>San Mateo</td>\n",
       "      <td>4849</td>\n",
       "      <td>Two Year</td>\n",
       "      <td>United States</td>\n",
       "      <td>...</td>\n",
       "      <td>25</td>\n",
       "      <td>2191.15</td>\n",
       "      <td>0</td>\n",
       "      <td>486.00</td>\n",
       "      <td>0.0</td>\n",
       "      <td>2677.15</td>\n",
       "      <td>0</td>\n",
       "      <td>1</td>\n",
       "      <td>904</td>\n",
       "      <td>0</td>\n",
       "    </tr>\n",
       "    <tr>\n",
       "      <th>1</th>\n",
       "      <td>27</td>\n",
       "      <td>59</td>\n",
       "      <td>45.62</td>\n",
       "      <td>NaN</td>\n",
       "      <td>NaN</td>\n",
       "      <td>27</td>\n",
       "      <td>Sutter Creek</td>\n",
       "      <td>3715</td>\n",
       "      <td>Month-to-Month</td>\n",
       "      <td>United States</td>\n",
       "      <td>...</td>\n",
       "      <td>35</td>\n",
       "      <td>3418.20</td>\n",
       "      <td>0</td>\n",
       "      <td>1596.70</td>\n",
       "      <td>0.0</td>\n",
       "      <td>5014.90</td>\n",
       "      <td>1</td>\n",
       "      <td>1</td>\n",
       "      <td>1365</td>\n",
       "      <td>0</td>\n",
       "    </tr>\n",
       "    <tr>\n",
       "      <th>2</th>\n",
       "      <td>59</td>\n",
       "      <td>0</td>\n",
       "      <td>16.07</td>\n",
       "      <td>NaN</td>\n",
       "      <td>NaN</td>\n",
       "      <td>59</td>\n",
       "      <td>Santa Cruz</td>\n",
       "      <td>5092</td>\n",
       "      <td>Month-to-Month</td>\n",
       "      <td>United States</td>\n",
       "      <td>...</td>\n",
       "      <td>46</td>\n",
       "      <td>851.20</td>\n",
       "      <td>0</td>\n",
       "      <td>739.22</td>\n",
       "      <td>0.0</td>\n",
       "      <td>1590.42</td>\n",
       "      <td>0</td>\n",
       "      <td>0</td>\n",
       "      <td>1065</td>\n",
       "      <td>0</td>\n",
       "    </tr>\n",
       "    <tr>\n",
       "      <th>3</th>\n",
       "      <td>25</td>\n",
       "      <td>27</td>\n",
       "      <td>0.00</td>\n",
       "      <td>NaN</td>\n",
       "      <td>NaN</td>\n",
       "      <td>49</td>\n",
       "      <td>Brea</td>\n",
       "      <td>2068</td>\n",
       "      <td>One Year</td>\n",
       "      <td>United States</td>\n",
       "      <td>...</td>\n",
       "      <td>27</td>\n",
       "      <td>1246.40</td>\n",
       "      <td>30</td>\n",
       "      <td>0.00</td>\n",
       "      <td>0.0</td>\n",
       "      <td>1276.40</td>\n",
       "      <td>1</td>\n",
       "      <td>0</td>\n",
       "      <td>567</td>\n",
       "      <td>0</td>\n",
       "    </tr>\n",
       "    <tr>\n",
       "      <th>4</th>\n",
       "      <td>31</td>\n",
       "      <td>21</td>\n",
       "      <td>17.22</td>\n",
       "      <td>Dissatisfaction</td>\n",
       "      <td>Network reliability</td>\n",
       "      <td>88</td>\n",
       "      <td>San Jose</td>\n",
       "      <td>4026</td>\n",
       "      <td>One Year</td>\n",
       "      <td>United States</td>\n",
       "      <td>...</td>\n",
       "      <td>58</td>\n",
       "      <td>3563.80</td>\n",
       "      <td>0</td>\n",
       "      <td>998.76</td>\n",
       "      <td>0.0</td>\n",
       "      <td>4562.56</td>\n",
       "      <td>0</td>\n",
       "      <td>1</td>\n",
       "      <td>1076</td>\n",
       "      <td>1</td>\n",
       "    </tr>\n",
       "  </tbody>\n",
       "</table>\n",
       "<p>5 rows × 52 columns</p>\n",
       "</div>"
      ],
      "text/plain": [
       "   Age  Avg Monthly GB Download  Avg Monthly Long Distance Charges  \\\n",
       "0   72                        4                              19.44   \n",
       "1   27                       59                              45.62   \n",
       "2   59                        0                              16.07   \n",
       "3   25                       27                               0.00   \n",
       "4   31                       21                              17.22   \n",
       "\n",
       "    Churn Category         Churn Reason  Churn Score          City  CLTV  \\\n",
       "0              NaN                  NaN           51     San Mateo  4849   \n",
       "1              NaN                  NaN           27  Sutter Creek  3715   \n",
       "2              NaN                  NaN           59    Santa Cruz  5092   \n",
       "3              NaN                  NaN           49          Brea  2068   \n",
       "4  Dissatisfaction  Network reliability           88      San Jose  4026   \n",
       "\n",
       "         Contract        Country  ... Tenure in Months Total Charges  \\\n",
       "0        Two Year  United States  ...               25       2191.15   \n",
       "1  Month-to-Month  United States  ...               35       3418.20   \n",
       "2  Month-to-Month  United States  ...               46        851.20   \n",
       "3        One Year  United States  ...               27       1246.40   \n",
       "4        One Year  United States  ...               58       3563.80   \n",
       "\n",
       "   Total Extra Data Charges  Total Long Distance Charges Total Refunds  \\\n",
       "0                         0                       486.00           0.0   \n",
       "1                         0                      1596.70           0.0   \n",
       "2                         0                       739.22           0.0   \n",
       "3                        30                         0.00           0.0   \n",
       "4                         0                       998.76           0.0   \n",
       "\n",
       "   Total Revenue Under 30 Unlimited Data  Zip Code  Churn  \n",
       "0        2677.15        0              1       904      0  \n",
       "1        5014.90        1              1      1365      0  \n",
       "2        1590.42        0              0      1065      0  \n",
       "3        1276.40        1              0       567      0  \n",
       "4        4562.56        0              1      1076      1  \n",
       "\n",
       "[5 rows x 52 columns]"
      ]
     },
     "execution_count": 114,
     "metadata": {},
     "output_type": "execute_result"
    }
   ],
   "source": [
    "df.head()"
   ]
  },
  {
   "cell_type": "code",
   "execution_count": 252,
   "id": "b28d344f",
   "metadata": {},
   "outputs": [
    {
     "data": {
      "text/plain": [
       "array(['United States'], dtype=object)"
      ]
     },
     "execution_count": 252,
     "metadata": {},
     "output_type": "execute_result"
    }
   ],
   "source": [
    "df[\"Country\"].unique()"
   ]
  },
  {
   "cell_type": "code",
   "execution_count": 253,
   "id": "87b8d720",
   "metadata": {},
   "outputs": [
    {
     "data": {
      "text/html": [
       "<div>\n",
       "<style scoped>\n",
       "    .dataframe tbody tr th:only-of-type {\n",
       "        vertical-align: middle;\n",
       "    }\n",
       "\n",
       "    .dataframe tbody tr th {\n",
       "        vertical-align: top;\n",
       "    }\n",
       "\n",
       "    .dataframe thead th {\n",
       "        text-align: right;\n",
       "    }\n",
       "</style>\n",
       "<table border=\"1\" class=\"dataframe\">\n",
       "  <thead>\n",
       "    <tr style=\"text-align: right;\">\n",
       "      <th></th>\n",
       "      <th>Age</th>\n",
       "      <th>Avg Monthly GB Download</th>\n",
       "      <th>Avg Monthly Long Distance Charges</th>\n",
       "      <th>Churn Category</th>\n",
       "      <th>Churn Reason</th>\n",
       "      <th>Churn Score</th>\n",
       "      <th>City</th>\n",
       "      <th>CLTV</th>\n",
       "      <th>Contract</th>\n",
       "      <th>Customer ID</th>\n",
       "      <th>...</th>\n",
       "      <th>Tenure in Months</th>\n",
       "      <th>Total Charges</th>\n",
       "      <th>Total Extra Data Charges</th>\n",
       "      <th>Total Long Distance Charges</th>\n",
       "      <th>Total Refunds</th>\n",
       "      <th>Total Revenue</th>\n",
       "      <th>Under 30</th>\n",
       "      <th>Unlimited Data</th>\n",
       "      <th>Zip Code</th>\n",
       "      <th>Churn</th>\n",
       "    </tr>\n",
       "  </thead>\n",
       "  <tbody>\n",
       "    <tr>\n",
       "      <th>0</th>\n",
       "      <td>72</td>\n",
       "      <td>4</td>\n",
       "      <td>19.44</td>\n",
       "      <td>NaN</td>\n",
       "      <td>NaN</td>\n",
       "      <td>51</td>\n",
       "      <td>San Mateo</td>\n",
       "      <td>4849</td>\n",
       "      <td>Two Year</td>\n",
       "      <td>4526-ZJJTM</td>\n",
       "      <td>...</td>\n",
       "      <td>25</td>\n",
       "      <td>2191.15</td>\n",
       "      <td>0</td>\n",
       "      <td>486.00</td>\n",
       "      <td>0.0</td>\n",
       "      <td>2677.15</td>\n",
       "      <td>0</td>\n",
       "      <td>1</td>\n",
       "      <td>904</td>\n",
       "      <td>0</td>\n",
       "    </tr>\n",
       "    <tr>\n",
       "      <th>1</th>\n",
       "      <td>27</td>\n",
       "      <td>59</td>\n",
       "      <td>45.62</td>\n",
       "      <td>NaN</td>\n",
       "      <td>NaN</td>\n",
       "      <td>27</td>\n",
       "      <td>Sutter Creek</td>\n",
       "      <td>3715</td>\n",
       "      <td>Month-to-Month</td>\n",
       "      <td>5302-BDJNT</td>\n",
       "      <td>...</td>\n",
       "      <td>35</td>\n",
       "      <td>3418.20</td>\n",
       "      <td>0</td>\n",
       "      <td>1596.70</td>\n",
       "      <td>0.0</td>\n",
       "      <td>5014.90</td>\n",
       "      <td>1</td>\n",
       "      <td>1</td>\n",
       "      <td>1365</td>\n",
       "      <td>0</td>\n",
       "    </tr>\n",
       "    <tr>\n",
       "      <th>2</th>\n",
       "      <td>59</td>\n",
       "      <td>0</td>\n",
       "      <td>16.07</td>\n",
       "      <td>NaN</td>\n",
       "      <td>NaN</td>\n",
       "      <td>59</td>\n",
       "      <td>Santa Cruz</td>\n",
       "      <td>5092</td>\n",
       "      <td>Month-to-Month</td>\n",
       "      <td>5468-BPMMO</td>\n",
       "      <td>...</td>\n",
       "      <td>46</td>\n",
       "      <td>851.20</td>\n",
       "      <td>0</td>\n",
       "      <td>739.22</td>\n",
       "      <td>0.0</td>\n",
       "      <td>1590.42</td>\n",
       "      <td>0</td>\n",
       "      <td>0</td>\n",
       "      <td>1065</td>\n",
       "      <td>0</td>\n",
       "    </tr>\n",
       "    <tr>\n",
       "      <th>3</th>\n",
       "      <td>25</td>\n",
       "      <td>27</td>\n",
       "      <td>0.00</td>\n",
       "      <td>NaN</td>\n",
       "      <td>NaN</td>\n",
       "      <td>49</td>\n",
       "      <td>Brea</td>\n",
       "      <td>2068</td>\n",
       "      <td>One Year</td>\n",
       "      <td>2212-LYASK</td>\n",
       "      <td>...</td>\n",
       "      <td>27</td>\n",
       "      <td>1246.40</td>\n",
       "      <td>30</td>\n",
       "      <td>0.00</td>\n",
       "      <td>0.0</td>\n",
       "      <td>1276.40</td>\n",
       "      <td>1</td>\n",
       "      <td>0</td>\n",
       "      <td>567</td>\n",
       "      <td>0</td>\n",
       "    </tr>\n",
       "    <tr>\n",
       "      <th>4</th>\n",
       "      <td>31</td>\n",
       "      <td>21</td>\n",
       "      <td>17.22</td>\n",
       "      <td>Dissatisfaction</td>\n",
       "      <td>Network reliability</td>\n",
       "      <td>88</td>\n",
       "      <td>San Jose</td>\n",
       "      <td>4026</td>\n",
       "      <td>One Year</td>\n",
       "      <td>0378-XSZPU</td>\n",
       "      <td>...</td>\n",
       "      <td>58</td>\n",
       "      <td>3563.80</td>\n",
       "      <td>0</td>\n",
       "      <td>998.76</td>\n",
       "      <td>0.0</td>\n",
       "      <td>4562.56</td>\n",
       "      <td>0</td>\n",
       "      <td>1</td>\n",
       "      <td>1076</td>\n",
       "      <td>1</td>\n",
       "    </tr>\n",
       "  </tbody>\n",
       "</table>\n",
       "<p>5 rows × 51 columns</p>\n",
       "</div>"
      ],
      "text/plain": [
       "   Age  Avg Monthly GB Download  Avg Monthly Long Distance Charges  \\\n",
       "0   72                        4                              19.44   \n",
       "1   27                       59                              45.62   \n",
       "2   59                        0                              16.07   \n",
       "3   25                       27                               0.00   \n",
       "4   31                       21                              17.22   \n",
       "\n",
       "    Churn Category         Churn Reason  Churn Score          City  CLTV  \\\n",
       "0              NaN                  NaN           51     San Mateo  4849   \n",
       "1              NaN                  NaN           27  Sutter Creek  3715   \n",
       "2              NaN                  NaN           59    Santa Cruz  5092   \n",
       "3              NaN                  NaN           49          Brea  2068   \n",
       "4  Dissatisfaction  Network reliability           88      San Jose  4026   \n",
       "\n",
       "         Contract Customer ID  ... Tenure in Months  Total Charges  \\\n",
       "0        Two Year  4526-ZJJTM  ...               25        2191.15   \n",
       "1  Month-to-Month  5302-BDJNT  ...               35        3418.20   \n",
       "2  Month-to-Month  5468-BPMMO  ...               46         851.20   \n",
       "3        One Year  2212-LYASK  ...               27        1246.40   \n",
       "4        One Year  0378-XSZPU  ...               58        3563.80   \n",
       "\n",
       "   Total Extra Data Charges Total Long Distance Charges  Total Refunds  \\\n",
       "0                         0                      486.00            0.0   \n",
       "1                         0                     1596.70            0.0   \n",
       "2                         0                      739.22            0.0   \n",
       "3                        30                        0.00            0.0   \n",
       "4                         0                      998.76            0.0   \n",
       "\n",
       "  Total Revenue Under 30  Unlimited Data  Zip Code  Churn  \n",
       "0       2677.15        0               1       904      0  \n",
       "1       5014.90        1               1      1365      0  \n",
       "2       1590.42        0               0      1065      0  \n",
       "3       1276.40        1               0       567      0  \n",
       "4       4562.56        0               1      1076      1  \n",
       "\n",
       "[5 rows x 51 columns]"
      ]
     },
     "execution_count": 253,
     "metadata": {},
     "output_type": "execute_result"
    }
   ],
   "source": [
    "#Country only has one unique value throughout the dataset, so we can drop it as it does not affect churn\n",
    "df = df.drop(\"Country\", axis = 1)\n",
    "df.head()"
   ]
  },
  {
   "cell_type": "code",
   "execution_count": 254,
   "id": "ce95cdf6",
   "metadata": {},
   "outputs": [
    {
     "data": {
      "text/plain": [
       "array([nan, 'Dissatisfaction', 'Competitor', 'Price', 'Attitude', 'Other'],\n",
       "      dtype=object)"
      ]
     },
     "execution_count": 254,
     "metadata": {},
     "output_type": "execute_result"
    }
   ],
   "source": [
    "df[\"Churn Category\"].unique()"
   ]
  },
  {
   "cell_type": "code",
   "execution_count": 255,
   "id": "ef36045f",
   "metadata": {},
   "outputs": [
    {
     "data": {
      "text/plain": [
       "array([0], dtype=int64)"
      ]
     },
     "execution_count": 255,
     "metadata": {},
     "output_type": "execute_result"
    }
   ],
   "source": [
    "df[\"Churn\"][df[\"Churn Category\"].isna()].unique()"
   ]
  },
  {
   "cell_type": "code",
   "execution_count": 256,
   "id": "1907e9dd",
   "metadata": {},
   "outputs": [
    {
     "data": {
      "text/plain": [
       "array([1], dtype=int64)"
      ]
     },
     "execution_count": 256,
     "metadata": {},
     "output_type": "execute_result"
    }
   ],
   "source": [
    "df[\"Churn\"][df[\"Churn Category\"].isin(['Dissatisfaction', 'Competitor', 'Price', 'Attitude', 'Other'])].unique()"
   ]
  },
  {
   "cell_type": "code",
   "execution_count": 257,
   "id": "d61fd1cd",
   "metadata": {},
   "outputs": [],
   "source": [
    "#So, It is pretty clear from our analysis that if churn category is NULL, then churn label is 0, AND 1 otherwise\n",
    "#We need to drop it to prevent overfitting AND data leak\n",
    "df.drop(columns=[\"Churn Category\"], inplace=True)"
   ]
  },
  {
   "cell_type": "code",
   "execution_count": 258,
   "id": "312e6df3",
   "metadata": {},
   "outputs": [
    {
     "data": {
      "text/plain": [
       "[nan,\n",
       " 'Network reliability',\n",
       " 'Competitor had better devices',\n",
       " 'Price too high',\n",
       " 'Competitor offered higher download speeds',\n",
       " 'Competitor offered more data',\n",
       " 'Attitude of support person',\n",
       " 'Competitor made better offer',\n",
       " \"Don't know\",\n",
       " 'Attitude of service provider',\n",
       " 'Limited range of services',\n",
       " 'Product dissatisfaction',\n",
       " 'Long distance charges',\n",
       " 'Poor expertise of online support',\n",
       " 'Lack of affordable download/upload speed',\n",
       " 'Service dissatisfaction',\n",
       " 'Moved',\n",
       " 'Lack of self-service on Website',\n",
       " 'Poor expertise of phone support',\n",
       " 'Extra data charges',\n",
       " 'Deceased']"
      ]
     },
     "execution_count": 258,
     "metadata": {},
     "output_type": "execute_result"
    }
   ],
   "source": [
    "ls = list(df[\"Churn Reason\"].unique())\n",
    "ls"
   ]
  },
  {
   "cell_type": "code",
   "execution_count": 259,
   "id": "529f2ea8",
   "metadata": {},
   "outputs": [
    {
     "data": {
      "text/plain": [
       "nan"
      ]
     },
     "execution_count": 259,
     "metadata": {},
     "output_type": "execute_result"
    }
   ],
   "source": [
    "ls.pop(0)"
   ]
  },
  {
   "cell_type": "code",
   "execution_count": 260,
   "id": "7393fba3",
   "metadata": {},
   "outputs": [
    {
     "data": {
      "text/plain": [
       "array([1], dtype=int64)"
      ]
     },
     "execution_count": 260,
     "metadata": {},
     "output_type": "execute_result"
    }
   ],
   "source": [
    "df[\"Churn\"][df[\"Churn Reason\"].isin(ls)].unique()"
   ]
  },
  {
   "cell_type": "code",
   "execution_count": 261,
   "id": "074c6084",
   "metadata": {},
   "outputs": [
    {
     "data": {
      "text/plain": [
       "array([0], dtype=int64)"
      ]
     },
     "execution_count": 261,
     "metadata": {},
     "output_type": "execute_result"
    }
   ],
   "source": [
    "df[\"Churn\"][df[\"Churn Reason\"].isna()].unique()"
   ]
  },
  {
   "cell_type": "code",
   "execution_count": 262,
   "id": "7ec799a5",
   "metadata": {},
   "outputs": [],
   "source": [
    "#So, It is AGAIN pretty clear from our analysis that if churn reason is NULL, then churn label is 0, AND 1 otherwise\n",
    "#We need to drop it to prevent overfitting AND data leak\n",
    "df.drop(columns=[\"Churn Reason\"], inplace=True)"
   ]
  },
  {
   "cell_type": "markdown",
   "id": "65505f4d",
   "metadata": {},
   "source": [
    "#### WHAT IS DATA LEAKAGE\n",
    "Data leakage (or data leak) is when information from outside the training dataset especially information that would not be available at prediction time is accidentally used to train the model. This leads to unrealistically high performance during training or validation, but the model fails in real-world scenarios because it has learned patterns it shouldn’t have had access to."
   ]
  },
  {
   "cell_type": "code",
   "execution_count": 263,
   "id": "1603e410",
   "metadata": {},
   "outputs": [
    {
     "data": {
      "text/plain": [
       "1085"
      ]
     },
     "execution_count": 263,
     "metadata": {},
     "output_type": "execute_result"
    }
   ],
   "source": [
    "unique_cities = len(df[\"City\"].unique())\n",
    "unique_cities"
   ]
  },
  {
   "cell_type": "code",
   "execution_count": 264,
   "id": "e8c5defb",
   "metadata": {},
   "outputs": [],
   "source": [
    "#There are 1085  unique Cities(Categories), so we encode them using label encoding\n",
    "le = LabelEncoder()\n",
    "df[\"City\"] = le.fit_transform(df[\"City\"]) "
   ]
  },
  {
   "cell_type": "code",
   "execution_count": 265,
   "id": "4b83ec47",
   "metadata": {},
   "outputs": [],
   "source": [
    "#Customer Id is dropped because it is not relevant and does not affect churn \n",
    "#Customer Status is dropped because it gives away the churn and leads to data leak\n",
    "df = df.drop([\"Customer ID\", \"Customer Status\"], axis = 1)"
   ]
  },
  {
   "cell_type": "code",
   "execution_count": 266,
   "id": "23717253",
   "metadata": {},
   "outputs": [
    {
     "data": {
      "text/plain": [
       "array(['Female', 'Male'], dtype=object)"
      ]
     },
     "execution_count": 266,
     "metadata": {},
     "output_type": "execute_result"
    }
   ],
   "source": [
    "df['Gender'].unique()"
   ]
  },
  {
   "cell_type": "code",
   "execution_count": 267,
   "id": "9720dad9",
   "metadata": {},
   "outputs": [],
   "source": [
    "#Converted Gender into a binary categorical value\n",
    "df[\"Gender\"] = df[\"Gender\"].replace({\"Male\": 1, \"Female\": 0})"
   ]
  },
  {
   "cell_type": "code",
   "execution_count": 268,
   "id": "1bfb2faf",
   "metadata": {},
   "outputs": [
    {
     "data": {
      "text/html": [
       "<div>\n",
       "<style scoped>\n",
       "    .dataframe tbody tr th:only-of-type {\n",
       "        vertical-align: middle;\n",
       "    }\n",
       "\n",
       "    .dataframe tbody tr th {\n",
       "        vertical-align: top;\n",
       "    }\n",
       "\n",
       "    .dataframe thead th {\n",
       "        text-align: right;\n",
       "    }\n",
       "</style>\n",
       "<table border=\"1\" class=\"dataframe\">\n",
       "  <thead>\n",
       "    <tr style=\"text-align: right;\">\n",
       "      <th></th>\n",
       "      <th>Age</th>\n",
       "      <th>Avg Monthly GB Download</th>\n",
       "      <th>Avg Monthly Long Distance Charges</th>\n",
       "      <th>Churn Score</th>\n",
       "      <th>City</th>\n",
       "      <th>CLTV</th>\n",
       "      <th>Contract</th>\n",
       "      <th>Dependents</th>\n",
       "      <th>Device Protection Plan</th>\n",
       "      <th>Gender</th>\n",
       "      <th>...</th>\n",
       "      <th>Tenure in Months</th>\n",
       "      <th>Total Charges</th>\n",
       "      <th>Total Extra Data Charges</th>\n",
       "      <th>Total Long Distance Charges</th>\n",
       "      <th>Total Refunds</th>\n",
       "      <th>Total Revenue</th>\n",
       "      <th>Under 30</th>\n",
       "      <th>Unlimited Data</th>\n",
       "      <th>Zip Code</th>\n",
       "      <th>Churn</th>\n",
       "    </tr>\n",
       "  </thead>\n",
       "  <tbody>\n",
       "    <tr>\n",
       "      <th>0</th>\n",
       "      <td>72</td>\n",
       "      <td>4</td>\n",
       "      <td>19.44</td>\n",
       "      <td>51</td>\n",
       "      <td>853</td>\n",
       "      <td>4849</td>\n",
       "      <td>Two Year</td>\n",
       "      <td>0</td>\n",
       "      <td>1</td>\n",
       "      <td>0</td>\n",
       "      <td>...</td>\n",
       "      <td>25</td>\n",
       "      <td>2191.15</td>\n",
       "      <td>0</td>\n",
       "      <td>486.00</td>\n",
       "      <td>0.00</td>\n",
       "      <td>2677.15</td>\n",
       "      <td>0</td>\n",
       "      <td>1</td>\n",
       "      <td>904</td>\n",
       "      <td>0</td>\n",
       "    </tr>\n",
       "    <tr>\n",
       "      <th>1</th>\n",
       "      <td>27</td>\n",
       "      <td>59</td>\n",
       "      <td>45.62</td>\n",
       "      <td>27</td>\n",
       "      <td>955</td>\n",
       "      <td>3715</td>\n",
       "      <td>Month-to-Month</td>\n",
       "      <td>0</td>\n",
       "      <td>1</td>\n",
       "      <td>1</td>\n",
       "      <td>...</td>\n",
       "      <td>35</td>\n",
       "      <td>3418.20</td>\n",
       "      <td>0</td>\n",
       "      <td>1596.70</td>\n",
       "      <td>0.00</td>\n",
       "      <td>5014.90</td>\n",
       "      <td>1</td>\n",
       "      <td>1</td>\n",
       "      <td>1365</td>\n",
       "      <td>0</td>\n",
       "    </tr>\n",
       "    <tr>\n",
       "      <th>2</th>\n",
       "      <td>59</td>\n",
       "      <td>0</td>\n",
       "      <td>16.07</td>\n",
       "      <td>59</td>\n",
       "      <td>867</td>\n",
       "      <td>5092</td>\n",
       "      <td>Month-to-Month</td>\n",
       "      <td>0</td>\n",
       "      <td>0</td>\n",
       "      <td>1</td>\n",
       "      <td>...</td>\n",
       "      <td>46</td>\n",
       "      <td>851.20</td>\n",
       "      <td>0</td>\n",
       "      <td>739.22</td>\n",
       "      <td>0.00</td>\n",
       "      <td>1590.42</td>\n",
       "      <td>0</td>\n",
       "      <td>0</td>\n",
       "      <td>1065</td>\n",
       "      <td>0</td>\n",
       "    </tr>\n",
       "    <tr>\n",
       "      <th>3</th>\n",
       "      <td>25</td>\n",
       "      <td>27</td>\n",
       "      <td>0.00</td>\n",
       "      <td>49</td>\n",
       "      <td>109</td>\n",
       "      <td>2068</td>\n",
       "      <td>One Year</td>\n",
       "      <td>0</td>\n",
       "      <td>1</td>\n",
       "      <td>1</td>\n",
       "      <td>...</td>\n",
       "      <td>27</td>\n",
       "      <td>1246.40</td>\n",
       "      <td>30</td>\n",
       "      <td>0.00</td>\n",
       "      <td>0.00</td>\n",
       "      <td>1276.40</td>\n",
       "      <td>1</td>\n",
       "      <td>0</td>\n",
       "      <td>567</td>\n",
       "      <td>0</td>\n",
       "    </tr>\n",
       "    <tr>\n",
       "      <th>4</th>\n",
       "      <td>31</td>\n",
       "      <td>21</td>\n",
       "      <td>17.22</td>\n",
       "      <td>88</td>\n",
       "      <td>843</td>\n",
       "      <td>4026</td>\n",
       "      <td>One Year</td>\n",
       "      <td>0</td>\n",
       "      <td>1</td>\n",
       "      <td>1</td>\n",
       "      <td>...</td>\n",
       "      <td>58</td>\n",
       "      <td>3563.80</td>\n",
       "      <td>0</td>\n",
       "      <td>998.76</td>\n",
       "      <td>0.00</td>\n",
       "      <td>4562.56</td>\n",
       "      <td>0</td>\n",
       "      <td>1</td>\n",
       "      <td>1076</td>\n",
       "      <td>1</td>\n",
       "    </tr>\n",
       "    <tr>\n",
       "      <th>...</th>\n",
       "      <td>...</td>\n",
       "      <td>...</td>\n",
       "      <td>...</td>\n",
       "      <td>...</td>\n",
       "      <td>...</td>\n",
       "      <td>...</td>\n",
       "      <td>...</td>\n",
       "      <td>...</td>\n",
       "      <td>...</td>\n",
       "      <td>...</td>\n",
       "      <td>...</td>\n",
       "      <td>...</td>\n",
       "      <td>...</td>\n",
       "      <td>...</td>\n",
       "      <td>...</td>\n",
       "      <td>...</td>\n",
       "      <td>...</td>\n",
       "      <td>...</td>\n",
       "      <td>...</td>\n",
       "      <td>...</td>\n",
       "      <td>...</td>\n",
       "    </tr>\n",
       "    <tr>\n",
       "      <th>4220</th>\n",
       "      <td>36</td>\n",
       "      <td>0</td>\n",
       "      <td>7.76</td>\n",
       "      <td>52</td>\n",
       "      <td>535</td>\n",
       "      <td>4590</td>\n",
       "      <td>Month-to-Month</td>\n",
       "      <td>0</td>\n",
       "      <td>0</td>\n",
       "      <td>1</td>\n",
       "      <td>...</td>\n",
       "      <td>1</td>\n",
       "      <td>19.90</td>\n",
       "      <td>0</td>\n",
       "      <td>7.76</td>\n",
       "      <td>0.00</td>\n",
       "      <td>27.66</td>\n",
       "      <td>0</td>\n",
       "      <td>0</td>\n",
       "      <td>151</td>\n",
       "      <td>0</td>\n",
       "    </tr>\n",
       "    <tr>\n",
       "      <th>4221</th>\n",
       "      <td>77</td>\n",
       "      <td>22</td>\n",
       "      <td>23.43</td>\n",
       "      <td>34</td>\n",
       "      <td>837</td>\n",
       "      <td>5602</td>\n",
       "      <td>One Year</td>\n",
       "      <td>0</td>\n",
       "      <td>0</td>\n",
       "      <td>0</td>\n",
       "      <td>...</td>\n",
       "      <td>22</td>\n",
       "      <td>1820.90</td>\n",
       "      <td>0</td>\n",
       "      <td>515.46</td>\n",
       "      <td>29.88</td>\n",
       "      <td>2306.48</td>\n",
       "      <td>0</td>\n",
       "      <td>1</td>\n",
       "      <td>890</td>\n",
       "      <td>0</td>\n",
       "    </tr>\n",
       "    <tr>\n",
       "      <th>4222</th>\n",
       "      <td>56</td>\n",
       "      <td>0</td>\n",
       "      <td>28.06</td>\n",
       "      <td>63</td>\n",
       "      <td>683</td>\n",
       "      <td>4458</td>\n",
       "      <td>One Year</td>\n",
       "      <td>1</td>\n",
       "      <td>0</td>\n",
       "      <td>1</td>\n",
       "      <td>...</td>\n",
       "      <td>18</td>\n",
       "      <td>345.90</td>\n",
       "      <td>0</td>\n",
       "      <td>505.08</td>\n",
       "      <td>0.00</td>\n",
       "      <td>850.98</td>\n",
       "      <td>0</td>\n",
       "      <td>0</td>\n",
       "      <td>1465</td>\n",
       "      <td>0</td>\n",
       "    </tr>\n",
       "    <tr>\n",
       "      <th>4223</th>\n",
       "      <td>45</td>\n",
       "      <td>22</td>\n",
       "      <td>0.00</td>\n",
       "      <td>38</td>\n",
       "      <td>1043</td>\n",
       "      <td>4115</td>\n",
       "      <td>Month-to-Month</td>\n",
       "      <td>0</td>\n",
       "      <td>1</td>\n",
       "      <td>0</td>\n",
       "      <td>...</td>\n",
       "      <td>57</td>\n",
       "      <td>3437.45</td>\n",
       "      <td>0</td>\n",
       "      <td>0.00</td>\n",
       "      <td>0.00</td>\n",
       "      <td>3437.45</td>\n",
       "      <td>0</td>\n",
       "      <td>1</td>\n",
       "      <td>212</td>\n",
       "      <td>0</td>\n",
       "    </tr>\n",
       "    <tr>\n",
       "      <th>4224</th>\n",
       "      <td>45</td>\n",
       "      <td>22</td>\n",
       "      <td>12.69</td>\n",
       "      <td>42</td>\n",
       "      <td>74</td>\n",
       "      <td>5574</td>\n",
       "      <td>One Year</td>\n",
       "      <td>0</td>\n",
       "      <td>0</td>\n",
       "      <td>0</td>\n",
       "      <td>...</td>\n",
       "      <td>17</td>\n",
       "      <td>1387.35</td>\n",
       "      <td>0</td>\n",
       "      <td>215.73</td>\n",
       "      <td>0.00</td>\n",
       "      <td>1603.08</td>\n",
       "      <td>0</td>\n",
       "      <td>1</td>\n",
       "      <td>988</td>\n",
       "      <td>0</td>\n",
       "    </tr>\n",
       "  </tbody>\n",
       "</table>\n",
       "<p>4225 rows × 47 columns</p>\n",
       "</div>"
      ],
      "text/plain": [
       "      Age  Avg Monthly GB Download  Avg Monthly Long Distance Charges  \\\n",
       "0      72                        4                              19.44   \n",
       "1      27                       59                              45.62   \n",
       "2      59                        0                              16.07   \n",
       "3      25                       27                               0.00   \n",
       "4      31                       21                              17.22   \n",
       "...   ...                      ...                                ...   \n",
       "4220   36                        0                               7.76   \n",
       "4221   77                       22                              23.43   \n",
       "4222   56                        0                              28.06   \n",
       "4223   45                       22                               0.00   \n",
       "4224   45                       22                              12.69   \n",
       "\n",
       "      Churn Score  City  CLTV        Contract  Dependents  \\\n",
       "0              51   853  4849        Two Year           0   \n",
       "1              27   955  3715  Month-to-Month           0   \n",
       "2              59   867  5092  Month-to-Month           0   \n",
       "3              49   109  2068        One Year           0   \n",
       "4              88   843  4026        One Year           0   \n",
       "...           ...   ...   ...             ...         ...   \n",
       "4220           52   535  4590  Month-to-Month           0   \n",
       "4221           34   837  5602        One Year           0   \n",
       "4222           63   683  4458        One Year           1   \n",
       "4223           38  1043  4115  Month-to-Month           0   \n",
       "4224           42    74  5574        One Year           0   \n",
       "\n",
       "      Device Protection Plan  Gender  ...  Tenure in Months Total Charges  \\\n",
       "0                          1       0  ...                25       2191.15   \n",
       "1                          1       1  ...                35       3418.20   \n",
       "2                          0       1  ...                46        851.20   \n",
       "3                          1       1  ...                27       1246.40   \n",
       "4                          1       1  ...                58       3563.80   \n",
       "...                      ...     ...  ...               ...           ...   \n",
       "4220                       0       1  ...                 1         19.90   \n",
       "4221                       0       0  ...                22       1820.90   \n",
       "4222                       0       1  ...                18        345.90   \n",
       "4223                       1       0  ...                57       3437.45   \n",
       "4224                       0       0  ...                17       1387.35   \n",
       "\n",
       "     Total Extra Data Charges  Total Long Distance Charges  Total Refunds  \\\n",
       "0                           0                       486.00           0.00   \n",
       "1                           0                      1596.70           0.00   \n",
       "2                           0                       739.22           0.00   \n",
       "3                          30                         0.00           0.00   \n",
       "4                           0                       998.76           0.00   \n",
       "...                       ...                          ...            ...   \n",
       "4220                        0                         7.76           0.00   \n",
       "4221                        0                       515.46          29.88   \n",
       "4222                        0                       505.08           0.00   \n",
       "4223                        0                         0.00           0.00   \n",
       "4224                        0                       215.73           0.00   \n",
       "\n",
       "      Total Revenue  Under 30  Unlimited Data  Zip Code  Churn  \n",
       "0           2677.15         0               1       904      0  \n",
       "1           5014.90         1               1      1365      0  \n",
       "2           1590.42         0               0      1065      0  \n",
       "3           1276.40         1               0       567      0  \n",
       "4           4562.56         0               1      1076      1  \n",
       "...             ...       ...             ...       ...    ...  \n",
       "4220          27.66         0               0       151      0  \n",
       "4221        2306.48         0               1       890      0  \n",
       "4222         850.98         0               0      1465      0  \n",
       "4223        3437.45         0               1       212      0  \n",
       "4224        1603.08         0               1       988      0  \n",
       "\n",
       "[4225 rows x 47 columns]"
      ]
     },
     "execution_count": 268,
     "metadata": {},
     "output_type": "execute_result"
    }
   ],
   "source": [
    "df"
   ]
  },
  {
   "cell_type": "code",
   "execution_count": 269,
   "id": "d3ab31c7",
   "metadata": {},
   "outputs": [
    {
     "data": {
      "text/plain": [
       "array(['Two Year', 'Month-to-Month', 'One Year'], dtype=object)"
      ]
     },
     "execution_count": 269,
     "metadata": {},
     "output_type": "execute_result"
    }
   ],
   "source": [
    "df[\"Contract\"].unique()"
   ]
  },
  {
   "cell_type": "code",
   "execution_count": 270,
   "id": "617e2629",
   "metadata": {},
   "outputs": [],
   "source": [
    "#Contract converted into categorical value\n",
    "df[\"Contract\"] = df[\"Contract\"].replace({\"Two Year\": 2, \"One Year\": 1, \"Month-to-Month\": 0})"
   ]
  },
  {
   "cell_type": "code",
   "execution_count": 271,
   "id": "a906c48e",
   "metadata": {},
   "outputs": [],
   "source": [
    "#Internet type has null values and a few more values, which is encoded into labels \n",
    "df[\"Internet Type\"] = le.fit_transform(df[\"Internet Type\"].fillna(\"Unknown\")) "
   ]
  },
  {
   "cell_type": "code",
   "execution_count": 272,
   "id": "627eaab4",
   "metadata": {},
   "outputs": [],
   "source": [
    "#Offer has null values and a few more values, which is encoded into labels\n",
    "df[\"Offer\"] = le.fit_transform(df[\"Offer\"].fillna(\"No offer\")) "
   ]
  },
  {
   "cell_type": "code",
   "execution_count": 273,
   "id": "f3eaf65a",
   "metadata": {},
   "outputs": [
    {
     "data": {
      "text/plain": [
       "array(['Bank Withdrawal', 'Credit Card', 'Mailed Check'], dtype=object)"
      ]
     },
     "execution_count": 273,
     "metadata": {},
     "output_type": "execute_result"
    }
   ],
   "source": [
    "df[\"Payment Method\"].unique()"
   ]
  },
  {
   "cell_type": "code",
   "execution_count": 274,
   "id": "490734e5",
   "metadata": {},
   "outputs": [
    {
     "data": {
      "text/plain": [
       "array([0, 1, 2])"
      ]
     },
     "execution_count": 274,
     "metadata": {},
     "output_type": "execute_result"
    }
   ],
   "source": [
    "#Payment Method converted into labels\n",
    "df[\"Payment Method\"] = le.fit_transform(df[\"Payment Method\"])\n",
    "df[\"Payment Method\"].unique()"
   ]
  },
  {
   "cell_type": "code",
   "execution_count": 275,
   "id": "a51c6cbd",
   "metadata": {},
   "outputs": [
    {
     "data": {
      "text/plain": [
       "array(['Q3'], dtype=object)"
      ]
     },
     "execution_count": 275,
     "metadata": {},
     "output_type": "execute_result"
    }
   ],
   "source": [
    "df[\"Quarter\"].unique()"
   ]
  },
  {
   "cell_type": "code",
   "execution_count": 276,
   "id": "c67462a3",
   "metadata": {},
   "outputs": [],
   "source": [
    "#Quarter dropped since it only has one value throughout the dataset and does not affect churn\n",
    "df.drop(\"Quarter\", axis=1, inplace=True)"
   ]
  },
  {
   "cell_type": "code",
   "execution_count": 277,
   "id": "7578265d",
   "metadata": {},
   "outputs": [
    {
     "data": {
      "text/plain": [
       "array([1, 0], dtype=int64)"
      ]
     },
     "execution_count": 277,
     "metadata": {},
     "output_type": "execute_result"
    }
   ],
   "source": [
    "df[\"Referred a Friend\"].unique()"
   ]
  },
  {
   "cell_type": "code",
   "execution_count": 278,
   "id": "f317dd81",
   "metadata": {},
   "outputs": [
    {
     "data": {
      "text/plain": [
       "array([ 1,  3,  2,  5,  8,  9, 10,  6,  4,  7, 11], dtype=int64)"
      ]
     },
     "execution_count": 278,
     "metadata": {},
     "output_type": "execute_result"
    }
   ],
   "source": [
    "df[\"Number of Referrals\"][df[\"Referred a Friend\"]==1].unique()"
   ]
  },
  {
   "cell_type": "code",
   "execution_count": 279,
   "id": "d990af92",
   "metadata": {},
   "outputs": [
    {
     "data": {
      "text/plain": [
       "array([0], dtype=int64)"
      ]
     },
     "execution_count": 279,
     "metadata": {},
     "output_type": "execute_result"
    }
   ],
   "source": [
    "df[\"Number of Referrals\"][df[\"Referred a Friend\"]==0].unique()"
   ]
  },
  {
   "cell_type": "code",
   "execution_count": 280,
   "id": "63204ade",
   "metadata": {},
   "outputs": [],
   "source": [
    "#We can drop the column Referred a Friend SINCE Number of Referrals already exist and as we can see from the analysis, they serve the same purpose\n",
    "#Similarly we can also drop column Dependents since number of Dependents column already exist\n",
    "df.drop([\"Referred a Friend\", \"Dependents\"], axis=1, inplace=True)"
   ]
  },
  {
   "cell_type": "code",
   "execution_count": 281,
   "id": "dfefd838",
   "metadata": {},
   "outputs": [
    {
     "data": {
      "text/plain": [
       "array(['California'], dtype=object)"
      ]
     },
     "execution_count": 281,
     "metadata": {},
     "output_type": "execute_result"
    }
   ],
   "source": [
    "df[\"State\"].unique()"
   ]
  },
  {
   "cell_type": "code",
   "execution_count": 282,
   "id": "83026ced",
   "metadata": {},
   "outputs": [],
   "source": [
    "#State dropped since it only has one value throughout the dataset and does not affect churn\n",
    "df.drop(\"State\", axis=1, inplace=True)"
   ]
  },
  {
   "cell_type": "code",
   "execution_count": 283,
   "id": "586804b9",
   "metadata": {
    "scrolled": true
   },
   "outputs": [
    {
     "name": "stdout",
     "output_type": "stream",
     "text": [
      "<class 'pandas.core.frame.DataFrame'>\n",
      "RangeIndex: 4225 entries, 0 to 4224\n",
      "Data columns (total 43 columns):\n",
      " #   Column                             Non-Null Count  Dtype  \n",
      "---  ------                             --------------  -----  \n",
      " 0   Age                                4225 non-null   int64  \n",
      " 1   Avg Monthly GB Download            4225 non-null   int64  \n",
      " 2   Avg Monthly Long Distance Charges  4225 non-null   float64\n",
      " 3   Churn Score                        4225 non-null   int64  \n",
      " 4   City                               4225 non-null   int32  \n",
      " 5   CLTV                               4225 non-null   int64  \n",
      " 6   Contract                           4225 non-null   int64  \n",
      " 7   Device Protection Plan             4225 non-null   int64  \n",
      " 8   Gender                             4225 non-null   int64  \n",
      " 9   Internet Service                   4225 non-null   int64  \n",
      " 10  Internet Type                      4225 non-null   int32  \n",
      " 11  Lat Long                           4225 non-null   object \n",
      " 12  Latitude                           4225 non-null   float64\n",
      " 13  Longitude                          4225 non-null   float64\n",
      " 14  Married                            4225 non-null   int64  \n",
      " 15  Monthly Charge                     4225 non-null   float64\n",
      " 16  Multiple Lines                     4225 non-null   int64  \n",
      " 17  Number of Dependents               4225 non-null   int64  \n",
      " 18  Number of Referrals                4225 non-null   int64  \n",
      " 19  Offer                              4225 non-null   int32  \n",
      " 20  Online Backup                      4225 non-null   int64  \n",
      " 21  Online Security                    4225 non-null   int64  \n",
      " 22  Paperless Billing                  4225 non-null   int64  \n",
      " 23  Partner                            4225 non-null   int64  \n",
      " 24  Payment Method                     4225 non-null   int32  \n",
      " 25  Phone Service                      4225 non-null   int64  \n",
      " 26  Population                         4225 non-null   int64  \n",
      " 27  Premium Tech Support               4225 non-null   int64  \n",
      " 28  Satisfaction Score                 4225 non-null   int64  \n",
      " 29  Senior Citizen                     4225 non-null   int64  \n",
      " 30  Streaming Movies                   4225 non-null   int64  \n",
      " 31  Streaming Music                    4225 non-null   int64  \n",
      " 32  Streaming TV                       4225 non-null   int64  \n",
      " 33  Tenure in Months                   4225 non-null   int64  \n",
      " 34  Total Charges                      4225 non-null   float64\n",
      " 35  Total Extra Data Charges           4225 non-null   int64  \n",
      " 36  Total Long Distance Charges        4225 non-null   float64\n",
      " 37  Total Refunds                      4225 non-null   float64\n",
      " 38  Total Revenue                      4225 non-null   float64\n",
      " 39  Under 30                           4225 non-null   int64  \n",
      " 40  Unlimited Data                     4225 non-null   int64  \n",
      " 41  Zip Code                           4225 non-null   int32  \n",
      " 42  Churn                              4225 non-null   int64  \n",
      "dtypes: float64(8), int32(5), int64(29), object(1)\n",
      "memory usage: 1.3+ MB\n"
     ]
    }
   ],
   "source": [
    "df.info()"
   ]
  },
  {
   "cell_type": "code",
   "execution_count": 284,
   "id": "c4290f23",
   "metadata": {},
   "outputs": [],
   "source": [
    "#State dropped since it only has one value throughout the dataset and does not affect churn\n",
    "#Churn score directly gives away the churn and leads to data leak\n",
    "df.drop([\"Lat Long\", \"Churn Score\"], axis=1, inplace=True) "
   ]
  },
  {
   "cell_type": "code",
   "execution_count": 285,
   "id": "fe24b881",
   "metadata": {},
   "outputs": [
    {
     "name": "stdout",
     "output_type": "stream",
     "text": [
      "<class 'pandas.core.frame.DataFrame'>\n",
      "RangeIndex: 4225 entries, 0 to 4224\n",
      "Data columns (total 41 columns):\n",
      " #   Column                             Non-Null Count  Dtype  \n",
      "---  ------                             --------------  -----  \n",
      " 0   Age                                4225 non-null   int64  \n",
      " 1   Avg Monthly GB Download            4225 non-null   int64  \n",
      " 2   Avg Monthly Long Distance Charges  4225 non-null   float64\n",
      " 3   City                               4225 non-null   int32  \n",
      " 4   CLTV                               4225 non-null   int64  \n",
      " 5   Contract                           4225 non-null   int64  \n",
      " 6   Device Protection Plan             4225 non-null   int64  \n",
      " 7   Gender                             4225 non-null   int64  \n",
      " 8   Internet Service                   4225 non-null   int64  \n",
      " 9   Internet Type                      4225 non-null   int32  \n",
      " 10  Latitude                           4225 non-null   float64\n",
      " 11  Longitude                          4225 non-null   float64\n",
      " 12  Married                            4225 non-null   int64  \n",
      " 13  Monthly Charge                     4225 non-null   float64\n",
      " 14  Multiple Lines                     4225 non-null   int64  \n",
      " 15  Number of Dependents               4225 non-null   int64  \n",
      " 16  Number of Referrals                4225 non-null   int64  \n",
      " 17  Offer                              4225 non-null   int32  \n",
      " 18  Online Backup                      4225 non-null   int64  \n",
      " 19  Online Security                    4225 non-null   int64  \n",
      " 20  Paperless Billing                  4225 non-null   int64  \n",
      " 21  Partner                            4225 non-null   int64  \n",
      " 22  Payment Method                     4225 non-null   int32  \n",
      " 23  Phone Service                      4225 non-null   int64  \n",
      " 24  Population                         4225 non-null   int64  \n",
      " 25  Premium Tech Support               4225 non-null   int64  \n",
      " 26  Satisfaction Score                 4225 non-null   int64  \n",
      " 27  Senior Citizen                     4225 non-null   int64  \n",
      " 28  Streaming Movies                   4225 non-null   int64  \n",
      " 29  Streaming Music                    4225 non-null   int64  \n",
      " 30  Streaming TV                       4225 non-null   int64  \n",
      " 31  Tenure in Months                   4225 non-null   int64  \n",
      " 32  Total Charges                      4225 non-null   float64\n",
      " 33  Total Extra Data Charges           4225 non-null   int64  \n",
      " 34  Total Long Distance Charges        4225 non-null   float64\n",
      " 35  Total Refunds                      4225 non-null   float64\n",
      " 36  Total Revenue                      4225 non-null   float64\n",
      " 37  Under 30                           4225 non-null   int64  \n",
      " 38  Unlimited Data                     4225 non-null   int64  \n",
      " 39  Zip Code                           4225 non-null   int32  \n",
      " 40  Churn                              4225 non-null   int64  \n",
      "dtypes: float64(8), int32(5), int64(28)\n",
      "memory usage: 1.2 MB\n"
     ]
    }
   ],
   "source": [
    "df.info()"
   ]
  },
  {
   "cell_type": "code",
   "execution_count": 286,
   "id": "a1736443",
   "metadata": {},
   "outputs": [],
   "source": [
    "#Cleaned dataset\n",
    "df.to_csv(\"C:/Users/srish/OneDrive/Desktop/xgboost/cleaned_data.csv\", index=False)"
   ]
  },
  {
   "cell_type": "code",
   "execution_count": 216,
   "id": "a5bcd6c6",
   "metadata": {},
   "outputs": [
    {
     "name": "stdout",
     "output_type": "stream",
     "text": [
      "Collecting xgboost\n",
      "  Downloading xgboost-2.1.4-py3-none-win_amd64.whl.metadata (2.1 kB)\n",
      "Requirement already satisfied: numpy in c:\\users\\srish\\anaconda3\\lib\\site-packages (from xgboost) (1.26.3)\n",
      "Requirement already satisfied: scipy in c:\\users\\srish\\anaconda3\\lib\\site-packages (from xgboost) (1.11.4)\n",
      "Downloading xgboost-2.1.4-py3-none-win_amd64.whl (124.9 MB)\n",
      "   ---------------------------------------- 0.0/124.9 MB ? eta -:--:--\n",
      "   ---------------------------------------- 0.5/124.9 MB 8.2 MB/s eta 0:00:16\n",
      "   - -------------------------------------- 3.7/124.9 MB 14.5 MB/s eta 0:00:09\n",
      "   - -------------------------------------- 4.2/124.9 MB 14.8 MB/s eta 0:00:09\n",
      "   - -------------------------------------- 4.7/124.9 MB 7.1 MB/s eta 0:00:17\n",
      "   - -------------------------------------- 5.0/124.9 MB 6.2 MB/s eta 0:00:20\n",
      "   - -------------------------------------- 5.2/124.9 MB 5.3 MB/s eta 0:00:23\n",
      "   - -------------------------------------- 5.8/124.9 MB 4.5 MB/s eta 0:00:27\n",
      "   -- ------------------------------------- 6.3/124.9 MB 4.2 MB/s eta 0:00:29\n",
      "   -- ------------------------------------- 6.8/124.9 MB 4.2 MB/s eta 0:00:28\n",
      "   -- ------------------------------------- 8.1/124.9 MB 4.1 MB/s eta 0:00:29\n",
      "   -- ------------------------------------- 8.7/124.9 MB 4.1 MB/s eta 0:00:29\n",
      "   --- ------------------------------------ 9.4/124.9 MB 4.0 MB/s eta 0:00:29\n",
      "   --- ------------------------------------ 10.0/124.9 MB 4.0 MB/s eta 0:00:29\n",
      "   --- ------------------------------------ 10.7/124.9 MB 3.9 MB/s eta 0:00:29\n",
      "   --- ------------------------------------ 11.5/124.9 MB 3.9 MB/s eta 0:00:30\n",
      "   ---- ----------------------------------- 12.6/124.9 MB 3.9 MB/s eta 0:00:29\n",
      "   ---- ----------------------------------- 13.1/124.9 MB 3.9 MB/s eta 0:00:29\n",
      "   ---- ----------------------------------- 13.9/124.9 MB 3.8 MB/s eta 0:00:30\n",
      "   ---- ----------------------------------- 14.4/124.9 MB 3.8 MB/s eta 0:00:30\n",
      "   ---- ----------------------------------- 15.2/124.9 MB 3.8 MB/s eta 0:00:29\n",
      "   ----- ---------------------------------- 16.0/124.9 MB 3.8 MB/s eta 0:00:29\n",
      "   ----- ---------------------------------- 16.8/124.9 MB 3.8 MB/s eta 0:00:29\n",
      "   ----- ---------------------------------- 17.6/124.9 MB 3.8 MB/s eta 0:00:29\n",
      "   ----- ---------------------------------- 18.1/124.9 MB 3.7 MB/s eta 0:00:29\n",
      "   ----- ---------------------------------- 18.6/124.9 MB 3.7 MB/s eta 0:00:29\n",
      "   ------ --------------------------------- 19.1/124.9 MB 3.7 MB/s eta 0:00:29\n",
      "   ------ --------------------------------- 19.9/124.9 MB 3.6 MB/s eta 0:00:30\n",
      "   ------ --------------------------------- 20.4/124.9 MB 3.6 MB/s eta 0:00:30\n",
      "   ------ --------------------------------- 21.0/124.9 MB 3.6 MB/s eta 0:00:30\n",
      "   ------ --------------------------------- 21.8/124.9 MB 3.5 MB/s eta 0:00:30\n",
      "   ------- -------------------------------- 22.0/124.9 MB 3.5 MB/s eta 0:00:30\n",
      "   ------- -------------------------------- 22.8/124.9 MB 3.5 MB/s eta 0:00:30\n",
      "   ------- -------------------------------- 23.3/124.9 MB 3.5 MB/s eta 0:00:30\n",
      "   ------- -------------------------------- 24.1/124.9 MB 3.5 MB/s eta 0:00:30\n",
      "   ------- -------------------------------- 24.6/124.9 MB 3.4 MB/s eta 0:00:30\n",
      "   -------- ------------------------------- 25.2/124.9 MB 3.4 MB/s eta 0:00:30\n",
      "   -------- ------------------------------- 26.0/124.9 MB 3.4 MB/s eta 0:00:29\n",
      "   -------- ------------------------------- 26.7/124.9 MB 3.4 MB/s eta 0:00:29\n",
      "   -------- ------------------------------- 27.3/124.9 MB 3.4 MB/s eta 0:00:29\n",
      "   -------- ------------------------------- 28.0/124.9 MB 3.4 MB/s eta 0:00:29\n",
      "   --------- ------------------------------ 28.8/124.9 MB 3.4 MB/s eta 0:00:29\n",
      "   --------- ------------------------------ 29.4/124.9 MB 3.4 MB/s eta 0:00:28\n",
      "   --------- ------------------------------ 30.4/124.9 MB 3.4 MB/s eta 0:00:28\n",
      "   --------- ------------------------------ 31.2/124.9 MB 3.4 MB/s eta 0:00:28\n",
      "   ---------- ----------------------------- 31.7/124.9 MB 3.5 MB/s eta 0:00:27\n",
      "   ---------- ----------------------------- 32.5/124.9 MB 3.5 MB/s eta 0:00:27\n",
      "   ---------- ----------------------------- 33.3/124.9 MB 3.5 MB/s eta 0:00:27\n",
      "   ---------- ----------------------------- 34.1/124.9 MB 3.5 MB/s eta 0:00:27\n",
      "   ----------- ---------------------------- 34.9/124.9 MB 3.5 MB/s eta 0:00:27\n",
      "   ----------- ---------------------------- 35.7/124.9 MB 3.5 MB/s eta 0:00:26\n",
      "   ----------- ---------------------------- 36.4/124.9 MB 3.5 MB/s eta 0:00:26\n",
      "   ----------- ---------------------------- 37.2/124.9 MB 3.5 MB/s eta 0:00:26\n",
      "   ------------ --------------------------- 38.0/124.9 MB 3.5 MB/s eta 0:00:25\n",
      "   ------------ --------------------------- 39.1/124.9 MB 3.5 MB/s eta 0:00:25\n",
      "   ------------ --------------------------- 39.8/124.9 MB 3.5 MB/s eta 0:00:25\n",
      "   ------------- -------------------------- 40.9/124.9 MB 3.5 MB/s eta 0:00:24\n",
      "   ------------- -------------------------- 41.7/124.9 MB 3.6 MB/s eta 0:00:24\n",
      "   ------------- -------------------------- 42.2/124.9 MB 3.5 MB/s eta 0:00:24\n",
      "   ------------- -------------------------- 42.7/124.9 MB 3.5 MB/s eta 0:00:24\n",
      "   ------------- -------------------------- 43.3/124.9 MB 3.5 MB/s eta 0:00:24\n",
      "   -------------- ------------------------- 43.8/124.9 MB 3.5 MB/s eta 0:00:24\n",
      "   -------------- ------------------------- 44.0/124.9 MB 3.5 MB/s eta 0:00:24\n",
      "   -------------- ------------------------- 44.6/124.9 MB 3.4 MB/s eta 0:00:24\n",
      "   -------------- ------------------------- 45.1/124.9 MB 3.4 MB/s eta 0:00:24\n",
      "   -------------- ------------------------- 45.6/124.9 MB 3.4 MB/s eta 0:00:24\n",
      "   -------------- ------------------------- 46.1/124.9 MB 3.4 MB/s eta 0:00:24\n",
      "   -------------- ------------------------- 46.7/124.9 MB 3.4 MB/s eta 0:00:24\n",
      "   --------------- ------------------------ 46.9/124.9 MB 3.4 MB/s eta 0:00:24\n",
      "   --------------- ------------------------ 47.4/124.9 MB 3.4 MB/s eta 0:00:24\n",
      "   --------------- ------------------------ 47.7/124.9 MB 3.3 MB/s eta 0:00:24\n",
      "   --------------- ------------------------ 48.0/124.9 MB 3.3 MB/s eta 0:00:24\n",
      "   --------------- ------------------------ 48.0/124.9 MB 3.3 MB/s eta 0:00:24\n",
      "   --------------- ------------------------ 48.2/124.9 MB 3.2 MB/s eta 0:00:24\n",
      "   --------------- ------------------------ 48.2/124.9 MB 3.2 MB/s eta 0:00:24\n",
      "   --------------- ------------------------ 48.5/124.9 MB 3.1 MB/s eta 0:00:25\n",
      "   --------------- ------------------------ 48.5/124.9 MB 3.1 MB/s eta 0:00:25\n",
      "   --------------- ------------------------ 48.8/124.9 MB 3.1 MB/s eta 0:00:25\n",
      "   --------------- ------------------------ 48.8/124.9 MB 3.1 MB/s eta 0:00:25\n",
      "   --------------- ------------------------ 48.8/124.9 MB 3.1 MB/s eta 0:00:25\n",
      "   --------------- ------------------------ 48.8/124.9 MB 3.1 MB/s eta 0:00:25\n",
      "   --------------- ------------------------ 48.8/124.9 MB 3.1 MB/s eta 0:00:25\n",
      "   --------------- ------------------------ 48.8/124.9 MB 3.1 MB/s eta 0:00:25\n",
      "   --------------- ------------------------ 48.8/124.9 MB 3.1 MB/s eta 0:00:25\n",
      "   --------------- ------------------------ 49.0/124.9 MB 2.9 MB/s eta 0:00:27\n",
      "   --------------- ------------------------ 49.0/124.9 MB 2.9 MB/s eta 0:00:27\n",
      "   --------------- ------------------------ 49.0/124.9 MB 2.9 MB/s eta 0:00:27\n",
      "   --------------- ------------------------ 49.3/124.9 MB 2.8 MB/s eta 0:00:28\n",
      "   --------------- ------------------------ 49.3/124.9 MB 2.8 MB/s eta 0:00:28\n",
      "   --------------- ------------------------ 49.5/124.9 MB 2.7 MB/s eta 0:00:28\n",
      "   --------------- ------------------------ 49.5/124.9 MB 2.7 MB/s eta 0:00:28\n",
      "   --------------- ------------------------ 49.8/124.9 MB 2.7 MB/s eta 0:00:29\n",
      "   --------------- ------------------------ 49.8/124.9 MB 2.7 MB/s eta 0:00:29\n",
      "   ---------------- ----------------------- 50.1/124.9 MB 2.6 MB/s eta 0:00:29\n",
      "   ---------------- ----------------------- 50.3/124.9 MB 2.6 MB/s eta 0:00:29\n",
      "   ---------------- ----------------------- 50.3/124.9 MB 2.6 MB/s eta 0:00:29\n",
      "   ---------------- ----------------------- 50.6/124.9 MB 2.6 MB/s eta 0:00:30\n",
      "   ---------------- ----------------------- 50.9/124.9 MB 2.5 MB/s eta 0:00:30\n",
      "   ---------------- ----------------------- 51.1/124.9 MB 2.5 MB/s eta 0:00:30\n",
      "   ---------------- ----------------------- 51.4/124.9 MB 2.5 MB/s eta 0:00:30\n",
      "   ---------------- ----------------------- 51.6/124.9 MB 2.5 MB/s eta 0:00:30\n",
      "   ---------------- ----------------------- 51.9/124.9 MB 2.5 MB/s eta 0:00:30\n",
      "   ---------------- ----------------------- 52.2/124.9 MB 2.5 MB/s eta 0:00:30\n",
      "   ---------------- ----------------------- 52.4/124.9 MB 2.5 MB/s eta 0:00:30\n",
      "   ---------------- ----------------------- 52.7/124.9 MB 2.4 MB/s eta 0:00:30\n",
      "   ---------------- ----------------------- 53.0/124.9 MB 2.4 MB/s eta 0:00:30\n",
      "   ----------------- ---------------------- 53.2/124.9 MB 2.4 MB/s eta 0:00:30\n",
      "   ----------------- ---------------------- 53.5/124.9 MB 2.4 MB/s eta 0:00:30\n",
      "   ----------------- ---------------------- 53.7/124.9 MB 2.4 MB/s eta 0:00:30\n",
      "   ----------------- ---------------------- 54.3/124.9 MB 2.4 MB/s eta 0:00:30\n",
      "   ----------------- ---------------------- 54.5/124.9 MB 2.4 MB/s eta 0:00:30\n",
      "   ----------------- ---------------------- 54.8/124.9 MB 2.4 MB/s eta 0:00:30\n",
      "   ----------------- ---------------------- 55.1/124.9 MB 2.4 MB/s eta 0:00:30\n",
      "   ----------------- ---------------------- 55.6/124.9 MB 2.4 MB/s eta 0:00:30\n",
      "   ----------------- ---------------------- 55.8/124.9 MB 2.4 MB/s eta 0:00:30\n",
      "   ------------------ --------------------- 56.4/124.9 MB 2.4 MB/s eta 0:00:29\n",
      "   ------------------ --------------------- 56.9/124.9 MB 2.4 MB/s eta 0:00:29\n",
      "   ------------------ --------------------- 57.1/124.9 MB 2.4 MB/s eta 0:00:29\n",
      "   ------------------ --------------------- 57.7/124.9 MB 2.4 MB/s eta 0:00:29\n",
      "   ------------------ --------------------- 58.2/124.9 MB 2.4 MB/s eta 0:00:29\n",
      "   ------------------ --------------------- 58.7/124.9 MB 2.4 MB/s eta 0:00:29\n",
      "   ------------------ --------------------- 59.2/124.9 MB 2.4 MB/s eta 0:00:28\n",
      "   ------------------- -------------------- 59.8/124.9 MB 2.4 MB/s eta 0:00:28\n",
      "   ------------------- -------------------- 60.6/124.9 MB 2.4 MB/s eta 0:00:28\n",
      "   ------------------- -------------------- 61.1/124.9 MB 2.4 MB/s eta 0:00:27\n",
      "   ------------------- -------------------- 62.1/124.9 MB 2.4 MB/s eta 0:00:27\n",
      "   -------------------- ------------------- 62.7/124.9 MB 2.4 MB/s eta 0:00:26\n",
      "   -------------------- ------------------- 63.7/124.9 MB 2.4 MB/s eta 0:00:26\n",
      "   -------------------- ------------------- 64.5/124.9 MB 2.4 MB/s eta 0:00:25\n",
      "   -------------------- ------------------- 65.5/124.9 MB 2.5 MB/s eta 0:00:25\n",
      "   --------------------- ------------------ 66.3/124.9 MB 2.5 MB/s eta 0:00:24\n",
      "   --------------------- ------------------ 66.8/124.9 MB 2.5 MB/s eta 0:00:24\n",
      "   --------------------- ------------------ 67.4/124.9 MB 2.5 MB/s eta 0:00:24\n",
      "   --------------------- ------------------ 67.6/124.9 MB 2.5 MB/s eta 0:00:24\n",
      "   --------------------- ------------------ 67.9/124.9 MB 2.5 MB/s eta 0:00:24\n",
      "   --------------------- ------------------ 67.9/124.9 MB 2.5 MB/s eta 0:00:24\n",
      "   --------------------- ------------------ 68.2/124.9 MB 2.4 MB/s eta 0:00:24\n",
      "   --------------------- ------------------ 68.2/124.9 MB 2.4 MB/s eta 0:00:24\n",
      "   --------------------- ------------------ 68.2/124.9 MB 2.4 MB/s eta 0:00:24\n",
      "   --------------------- ------------------ 68.2/124.9 MB 2.4 MB/s eta 0:00:24\n",
      "   --------------------- ------------------ 68.4/124.9 MB 2.4 MB/s eta 0:00:24\n",
      "   --------------------- ------------------ 68.4/124.9 MB 2.4 MB/s eta 0:00:24\n",
      "   --------------------- ------------------ 68.4/124.9 MB 2.4 MB/s eta 0:00:24\n",
      "   --------------------- ------------------ 68.7/124.9 MB 2.3 MB/s eta 0:00:25\n",
      "   --------------------- ------------------ 68.7/124.9 MB 2.3 MB/s eta 0:00:25\n",
      "   --------------------- ------------------ 68.7/124.9 MB 2.3 MB/s eta 0:00:25\n",
      "   ---------------------- ----------------- 68.9/124.9 MB 2.2 MB/s eta 0:00:26\n",
      "   ---------------------- ----------------- 68.9/124.9 MB 2.2 MB/s eta 0:00:26\n",
      "   ---------------------- ----------------- 68.9/124.9 MB 2.2 MB/s eta 0:00:26\n",
      "   ---------------------- ----------------- 68.9/124.9 MB 2.2 MB/s eta 0:00:26\n",
      "   ---------------------- ----------------- 68.9/124.9 MB 2.2 MB/s eta 0:00:26\n",
      "   ---------------------- ----------------- 68.9/124.9 MB 2.2 MB/s eta 0:00:26\n",
      "   ---------------------- ----------------- 68.9/124.9 MB 2.2 MB/s eta 0:00:26\n",
      "   ---------------------- ----------------- 69.2/124.9 MB 2.1 MB/s eta 0:00:27\n",
      "   ---------------------- ----------------- 69.2/124.9 MB 2.1 MB/s eta 0:00:27\n",
      "   ---------------------- ----------------- 69.2/124.9 MB 2.1 MB/s eta 0:00:27\n",
      "   ---------------------- ----------------- 69.5/124.9 MB 2.0 MB/s eta 0:00:28\n",
      "   ---------------------- ----------------- 69.5/124.9 MB 2.0 MB/s eta 0:00:28\n",
      "   ---------------------- ----------------- 69.7/124.9 MB 2.0 MB/s eta 0:00:28\n",
      "   ---------------------- ----------------- 69.7/124.9 MB 2.0 MB/s eta 0:00:28\n",
      "   ---------------------- ----------------- 70.0/124.9 MB 1.9 MB/s eta 0:00:29\n",
      "   ---------------------- ----------------- 70.0/124.9 MB 1.9 MB/s eta 0:00:29\n",
      "   ---------------------- ----------------- 70.3/124.9 MB 1.9 MB/s eta 0:00:29\n",
      "   ---------------------- ----------------- 70.5/124.9 MB 1.9 MB/s eta 0:00:29\n",
      "   ---------------------- ----------------- 70.5/124.9 MB 1.9 MB/s eta 0:00:29\n",
      "   ---------------------- ----------------- 70.8/124.9 MB 1.9 MB/s eta 0:00:30\n",
      "   ---------------------- ----------------- 71.0/124.9 MB 1.8 MB/s eta 0:00:30\n",
      "   ---------------------- ----------------- 71.3/124.9 MB 1.8 MB/s eta 0:00:30\n",
      "   ---------------------- ----------------- 71.6/124.9 MB 1.8 MB/s eta 0:00:30\n",
      "   ----------------------- ---------------- 71.8/124.9 MB 1.8 MB/s eta 0:00:30\n",
      "   ----------------------- ---------------- 72.1/124.9 MB 1.8 MB/s eta 0:00:30\n",
      "   ----------------------- ---------------- 72.4/124.9 MB 1.8 MB/s eta 0:00:30\n",
      "   ----------------------- ---------------- 72.6/124.9 MB 1.8 MB/s eta 0:00:30\n",
      "   ----------------------- ---------------- 73.1/124.9 MB 1.7 MB/s eta 0:00:30\n",
      "   ----------------------- ---------------- 73.4/124.9 MB 1.7 MB/s eta 0:00:30\n",
      "   ----------------------- ---------------- 73.7/124.9 MB 1.7 MB/s eta 0:00:30\n",
      "   ----------------------- ---------------- 73.9/124.9 MB 1.7 MB/s eta 0:00:30\n",
      "   ----------------------- ---------------- 74.4/124.9 MB 1.7 MB/s eta 0:00:30\n",
      "   ----------------------- ---------------- 74.7/124.9 MB 1.7 MB/s eta 0:00:30\n",
      "   ------------------------ --------------- 75.2/124.9 MB 1.7 MB/s eta 0:00:30\n",
      "   ------------------------ --------------- 75.5/124.9 MB 1.7 MB/s eta 0:00:30\n",
      "   ------------------------ --------------- 75.8/124.9 MB 1.7 MB/s eta 0:00:30\n",
      "   ------------------------ --------------- 76.0/124.9 MB 1.7 MB/s eta 0:00:30\n",
      "   ------------------------ --------------- 76.5/124.9 MB 1.7 MB/s eta 0:00:30\n",
      "   ------------------------ --------------- 77.1/124.9 MB 1.6 MB/s eta 0:00:30\n",
      "   ------------------------ --------------- 77.3/124.9 MB 1.6 MB/s eta 0:00:30\n",
      "   ------------------------ --------------- 77.9/124.9 MB 1.6 MB/s eta 0:00:30\n",
      "   ------------------------- -------------- 78.4/124.9 MB 1.6 MB/s eta 0:00:29\n",
      "   ------------------------- -------------- 78.9/124.9 MB 1.6 MB/s eta 0:00:29\n",
      "   ------------------------- -------------- 79.4/124.9 MB 1.6 MB/s eta 0:00:29\n",
      "   ------------------------- -------------- 79.7/124.9 MB 1.6 MB/s eta 0:00:29\n",
      "   ------------------------- -------------- 80.0/124.9 MB 1.6 MB/s eta 0:00:29\n",
      "   ------------------------- -------------- 80.2/124.9 MB 1.6 MB/s eta 0:00:29\n",
      "   ------------------------- -------------- 80.5/124.9 MB 1.5 MB/s eta 0:00:29\n",
      "   ------------------------- -------------- 80.7/124.9 MB 1.5 MB/s eta 0:00:29\n",
      "   ------------------------- -------------- 81.0/124.9 MB 1.5 MB/s eta 0:00:30\n",
      "   -------------------------- ------------- 81.3/124.9 MB 1.5 MB/s eta 0:00:30\n",
      "   -------------------------- ------------- 81.5/124.9 MB 1.5 MB/s eta 0:00:30\n",
      "   -------------------------- ------------- 81.8/124.9 MB 1.4 MB/s eta 0:00:30\n",
      "   -------------------------- ------------- 82.1/124.9 MB 1.4 MB/s eta 0:00:31\n",
      "   -------------------------- ------------- 82.3/124.9 MB 1.4 MB/s eta 0:00:31\n",
      "   -------------------------- ------------- 82.6/124.9 MB 1.4 MB/s eta 0:00:31\n",
      "   -------------------------- ------------- 83.1/124.9 MB 1.4 MB/s eta 0:00:31\n",
      "   -------------------------- ------------- 83.4/124.9 MB 1.4 MB/s eta 0:00:31\n",
      "   -------------------------- ------------- 83.6/124.9 MB 1.4 MB/s eta 0:00:31\n",
      "   -------------------------- ------------- 84.1/124.9 MB 1.4 MB/s eta 0:00:31\n",
      "   --------------------------- ------------ 84.4/124.9 MB 1.3 MB/s eta 0:00:31\n",
      "   --------------------------- ------------ 84.9/124.9 MB 1.3 MB/s eta 0:00:30\n",
      "   --------------------------- ------------ 85.2/124.9 MB 1.3 MB/s eta 0:00:30\n",
      "   --------------------------- ------------ 85.7/124.9 MB 1.3 MB/s eta 0:00:30\n",
      "   --------------------------- ------------ 86.0/124.9 MB 1.3 MB/s eta 0:00:30\n",
      "   --------------------------- ------------ 86.5/124.9 MB 1.3 MB/s eta 0:00:29\n",
      "   --------------------------- ------------ 87.0/124.9 MB 1.3 MB/s eta 0:00:29\n",
      "   --------------------------- ------------ 87.3/124.9 MB 1.3 MB/s eta 0:00:29\n",
      "   ---------------------------- ----------- 87.8/124.9 MB 1.3 MB/s eta 0:00:28\n",
      "   ---------------------------- ----------- 88.3/124.9 MB 1.3 MB/s eta 0:00:28\n",
      "   ---------------------------- ----------- 88.9/124.9 MB 1.4 MB/s eta 0:00:27\n",
      "   ---------------------------- ----------- 89.4/124.9 MB 1.4 MB/s eta 0:00:26\n",
      "   ---------------------------- ----------- 89.9/124.9 MB 1.4 MB/s eta 0:00:26\n",
      "   ---------------------------- ----------- 90.4/124.9 MB 1.4 MB/s eta 0:00:25\n",
      "   ----------------------------- ---------- 91.0/124.9 MB 1.4 MB/s eta 0:00:24\n",
      "   ----------------------------- ---------- 91.5/124.9 MB 1.4 MB/s eta 0:00:24\n",
      "   ----------------------------- ---------- 91.8/124.9 MB 1.5 MB/s eta 0:00:23\n",
      "   ----------------------------- ---------- 92.3/124.9 MB 1.5 MB/s eta 0:00:22\n",
      "   ----------------------------- ---------- 92.8/124.9 MB 1.5 MB/s eta 0:00:22\n",
      "   ----------------------------- ---------- 93.1/124.9 MB 1.5 MB/s eta 0:00:22\n",
      "   ----------------------------- ---------- 93.6/124.9 MB 1.5 MB/s eta 0:00:21\n",
      "   ------------------------------ --------- 94.1/124.9 MB 1.5 MB/s eta 0:00:21\n",
      "   ------------------------------ --------- 94.6/124.9 MB 1.5 MB/s eta 0:00:20\n",
      "   ------------------------------ --------- 95.2/124.9 MB 1.6 MB/s eta 0:00:20\n",
      "   ------------------------------ --------- 95.7/124.9 MB 1.6 MB/s eta 0:00:19\n",
      "   ------------------------------ --------- 96.2/124.9 MB 1.6 MB/s eta 0:00:19\n",
      "   ------------------------------ --------- 96.7/124.9 MB 1.6 MB/s eta 0:00:18\n",
      "   ------------------------------- -------- 97.3/124.9 MB 1.6 MB/s eta 0:00:18\n",
      "   ------------------------------- -------- 97.8/124.9 MB 1.6 MB/s eta 0:00:17\n",
      "   ------------------------------- -------- 98.3/124.9 MB 1.6 MB/s eta 0:00:17\n",
      "   ------------------------------- -------- 98.8/124.9 MB 1.6 MB/s eta 0:00:16\n",
      "   ------------------------------- -------- 99.4/124.9 MB 1.6 MB/s eta 0:00:16\n",
      "   ------------------------------- -------- 99.9/124.9 MB 1.7 MB/s eta 0:00:16\n",
      "   -------------------------------- ------- 100.4/124.9 MB 1.7 MB/s eta 0:00:15\n",
      "   -------------------------------- ------- 100.9/124.9 MB 1.7 MB/s eta 0:00:15\n",
      "   -------------------------------- ------- 101.4/124.9 MB 1.7 MB/s eta 0:00:14\n",
      "   -------------------------------- ------- 102.2/124.9 MB 1.7 MB/s eta 0:00:14\n",
      "   -------------------------------- ------- 102.8/124.9 MB 1.7 MB/s eta 0:00:13\n",
      "   --------------------------------- ------ 103.3/124.9 MB 1.7 MB/s eta 0:00:13\n",
      "   --------------------------------- ------ 103.8/124.9 MB 1.7 MB/s eta 0:00:13\n",
      "   --------------------------------- ------ 104.6/124.9 MB 1.8 MB/s eta 0:00:12\n",
      "   --------------------------------- ------ 105.1/124.9 MB 1.8 MB/s eta 0:00:12\n",
      "   --------------------------------- ------ 105.9/124.9 MB 1.8 MB/s eta 0:00:11\n",
      "   ---------------------------------- ----- 106.7/124.9 MB 1.8 MB/s eta 0:00:11\n",
      "   ---------------------------------- ----- 107.2/124.9 MB 1.8 MB/s eta 0:00:10\n",
      "   ---------------------------------- ----- 108.0/124.9 MB 1.8 MB/s eta 0:00:10\n",
      "   ---------------------------------- ----- 108.5/124.9 MB 1.8 MB/s eta 0:00:09\n",
      "   ----------------------------------- ---- 109.3/124.9 MB 1.8 MB/s eta 0:00:09\n",
      "   ----------------------------------- ---- 109.8/124.9 MB 1.8 MB/s eta 0:00:09\n",
      "   ----------------------------------- ---- 110.6/124.9 MB 1.9 MB/s eta 0:00:08\n",
      "   ----------------------------------- ---- 111.1/124.9 MB 1.9 MB/s eta 0:00:08\n",
      "   ----------------------------------- ---- 111.9/124.9 MB 1.9 MB/s eta 0:00:07\n",
      "   ------------------------------------ --- 112.7/124.9 MB 1.9 MB/s eta 0:00:07\n",
      "   ------------------------------------ --- 113.5/124.9 MB 1.9 MB/s eta 0:00:06\n",
      "   ------------------------------------ --- 114.3/124.9 MB 1.9 MB/s eta 0:00:06\n",
      "   ------------------------------------ --- 115.1/124.9 MB 1.9 MB/s eta 0:00:06\n",
      "   ------------------------------------- -- 115.9/124.9 MB 1.9 MB/s eta 0:00:05\n",
      "   ------------------------------------- -- 116.7/124.9 MB 2.0 MB/s eta 0:00:05\n",
      "   ------------------------------------- -- 117.4/124.9 MB 2.0 MB/s eta 0:00:04\n",
      "   ------------------------------------- -- 118.2/124.9 MB 2.0 MB/s eta 0:00:04\n",
      "   -------------------------------------- - 119.0/124.9 MB 2.0 MB/s eta 0:00:03\n",
      "   -------------------------------------- - 120.1/124.9 MB 2.0 MB/s eta 0:00:03\n",
      "   -------------------------------------- - 120.8/124.9 MB 2.0 MB/s eta 0:00:03\n",
      "   -------------------------------------- - 121.6/124.9 MB 2.0 MB/s eta 0:00:02\n",
      "   ---------------------------------------  122.4/124.9 MB 2.0 MB/s eta 0:00:02\n",
      "   ---------------------------------------  123.2/124.9 MB 2.0 MB/s eta 0:00:01\n",
      "   ---------------------------------------  123.7/124.9 MB 2.0 MB/s eta 0:00:01\n",
      "   ---------------------------------------  124.0/124.9 MB 2.0 MB/s eta 0:00:01\n",
      "   ---------------------------------------  124.5/124.9 MB 2.0 MB/s eta 0:00:01\n",
      "   ---------------------------------------  124.8/124.9 MB 1.9 MB/s eta 0:00:01\n",
      "   ---------------------------------------  124.8/124.9 MB 1.9 MB/s eta 0:00:01\n",
      "   ---------------------------------------  124.8/124.9 MB 1.9 MB/s eta 0:00:01\n",
      "   ---------------------------------------- 124.9/124.9 MB 1.9 MB/s eta 0:00:00\n",
      "Installing collected packages: xgboost\n",
      "Successfully installed xgboost-2.1.4\n"
     ]
    }
   ],
   "source": [
    "!pip install xgboost"
   ]
  },
  {
   "cell_type": "markdown",
   "id": "07457b31",
   "metadata": {},
   "source": [
    "### Splitting the Dataset into Train and Test Datasets\n",
    "\n",
    "We have defined the dataframe with only the column churn as our target variable and the dataframe with the other columns except for churn as our feature variables. Then we used train_test_split() function with 33% test size and 42 random state to create X_train, X_test, y_train and y_test."
   ]
  },
  {
   "cell_type": "code",
   "execution_count": 287,
   "id": "aba72df2",
   "metadata": {},
   "outputs": [],
   "source": [
    "import numpy as np\n",
    "import xgboost as xgb\n",
    "from sklearn.model_selection import train_test_split\n",
    "from sklearn.model_selection import GridSearchCV\n",
    "from sklearn.metrics import accuracy_score, precision_score, recall_score, f1_score, confusion_matrix, classification_report"
   ]
  },
  {
   "cell_type": "code",
   "execution_count": 288,
   "id": "2046119b",
   "metadata": {},
   "outputs": [],
   "source": [
    "X = df.drop(\"Churn\", axis=1)\n",
    "y = df[\"Churn\"]\n",
    "X_train, X_test, y_train, y_test = train_test_split(X, y, test_size=0.33, random_state=42)"
   ]
  },
  {
   "cell_type": "code",
   "execution_count": 289,
   "id": "11038eff",
   "metadata": {},
   "outputs": [
    {
     "name": "stdout",
     "output_type": "stream",
     "text": [
      "(2830, 40) (1395, 40) (2830,) (1395,)\n"
     ]
    }
   ],
   "source": [
    "print(X_train.shape, X_test.shape, y_train.shape, y_test.shape)"
   ]
  },
  {
   "cell_type": "markdown",
   "id": "4ebe5a21",
   "metadata": {},
   "source": [
    "### Building Our Model\n",
    "I have used XGBoost to train our model."
   ]
  },
  {
   "cell_type": "code",
   "execution_count": 290,
   "id": "bc8ac531",
   "metadata": {},
   "outputs": [
    {
     "data": {
      "text/html": [
       "<style>#sk-container-id-3 {color: black;}#sk-container-id-3 pre{padding: 0;}#sk-container-id-3 div.sk-toggleable {background-color: white;}#sk-container-id-3 label.sk-toggleable__label {cursor: pointer;display: block;width: 100%;margin-bottom: 0;padding: 0.3em;box-sizing: border-box;text-align: center;}#sk-container-id-3 label.sk-toggleable__label-arrow:before {content: \"▸\";float: left;margin-right: 0.25em;color: #696969;}#sk-container-id-3 label.sk-toggleable__label-arrow:hover:before {color: black;}#sk-container-id-3 div.sk-estimator:hover label.sk-toggleable__label-arrow:before {color: black;}#sk-container-id-3 div.sk-toggleable__content {max-height: 0;max-width: 0;overflow: hidden;text-align: left;background-color: #f0f8ff;}#sk-container-id-3 div.sk-toggleable__content pre {margin: 0.2em;color: black;border-radius: 0.25em;background-color: #f0f8ff;}#sk-container-id-3 input.sk-toggleable__control:checked~div.sk-toggleable__content {max-height: 200px;max-width: 100%;overflow: auto;}#sk-container-id-3 input.sk-toggleable__control:checked~label.sk-toggleable__label-arrow:before {content: \"▾\";}#sk-container-id-3 div.sk-estimator input.sk-toggleable__control:checked~label.sk-toggleable__label {background-color: #d4ebff;}#sk-container-id-3 div.sk-label input.sk-toggleable__control:checked~label.sk-toggleable__label {background-color: #d4ebff;}#sk-container-id-3 input.sk-hidden--visually {border: 0;clip: rect(1px 1px 1px 1px);clip: rect(1px, 1px, 1px, 1px);height: 1px;margin: -1px;overflow: hidden;padding: 0;position: absolute;width: 1px;}#sk-container-id-3 div.sk-estimator {font-family: monospace;background-color: #f0f8ff;border: 1px dotted black;border-radius: 0.25em;box-sizing: border-box;margin-bottom: 0.5em;}#sk-container-id-3 div.sk-estimator:hover {background-color: #d4ebff;}#sk-container-id-3 div.sk-parallel-item::after {content: \"\";width: 100%;border-bottom: 1px solid gray;flex-grow: 1;}#sk-container-id-3 div.sk-label:hover label.sk-toggleable__label {background-color: #d4ebff;}#sk-container-id-3 div.sk-serial::before {content: \"\";position: absolute;border-left: 1px solid gray;box-sizing: border-box;top: 0;bottom: 0;left: 50%;z-index: 0;}#sk-container-id-3 div.sk-serial {display: flex;flex-direction: column;align-items: center;background-color: white;padding-right: 0.2em;padding-left: 0.2em;position: relative;}#sk-container-id-3 div.sk-item {position: relative;z-index: 1;}#sk-container-id-3 div.sk-parallel {display: flex;align-items: stretch;justify-content: center;background-color: white;position: relative;}#sk-container-id-3 div.sk-item::before, #sk-container-id-3 div.sk-parallel-item::before {content: \"\";position: absolute;border-left: 1px solid gray;box-sizing: border-box;top: 0;bottom: 0;left: 50%;z-index: -1;}#sk-container-id-3 div.sk-parallel-item {display: flex;flex-direction: column;z-index: 1;position: relative;background-color: white;}#sk-container-id-3 div.sk-parallel-item:first-child::after {align-self: flex-end;width: 50%;}#sk-container-id-3 div.sk-parallel-item:last-child::after {align-self: flex-start;width: 50%;}#sk-container-id-3 div.sk-parallel-item:only-child::after {width: 0;}#sk-container-id-3 div.sk-dashed-wrapped {border: 1px dashed gray;margin: 0 0.4em 0.5em 0.4em;box-sizing: border-box;padding-bottom: 0.4em;background-color: white;}#sk-container-id-3 div.sk-label label {font-family: monospace;font-weight: bold;display: inline-block;line-height: 1.2em;}#sk-container-id-3 div.sk-label-container {text-align: center;}#sk-container-id-3 div.sk-container {/* jupyter's `normalize.less` sets `[hidden] { display: none; }` but bootstrap.min.css set `[hidden] { display: none !important; }` so we also need the `!important` here to be able to override the default hidden behavior on the sphinx rendered scikit-learn.org. See: https://github.com/scikit-learn/scikit-learn/issues/21755 */display: inline-block !important;position: relative;}#sk-container-id-3 div.sk-text-repr-fallback {display: none;}</style><div id=\"sk-container-id-3\" class=\"sk-top-container\"><div class=\"sk-text-repr-fallback\"><pre>XGBClassifier(base_score=None, booster=None, callbacks=None,\n",
       "              colsample_bylevel=None, colsample_bynode=None,\n",
       "              colsample_bytree=None, device=None, early_stopping_rounds=None,\n",
       "              enable_categorical=False, eval_metric=None, feature_types=None,\n",
       "              gamma=None, grow_policy=None, importance_type=None,\n",
       "              interaction_constraints=None, learning_rate=None, max_bin=None,\n",
       "              max_cat_threshold=None, max_cat_to_onehot=None,\n",
       "              max_delta_step=None, max_depth=None, max_leaves=None,\n",
       "              min_child_weight=None, missing=nan, monotone_constraints=None,\n",
       "              multi_strategy=None, n_estimators=None, n_jobs=None,\n",
       "              num_parallel_tree=None, random_state=None, ...)</pre><b>In a Jupyter environment, please rerun this cell to show the HTML representation or trust the notebook. <br />On GitHub, the HTML representation is unable to render, please try loading this page with nbviewer.org.</b></div><div class=\"sk-container\" hidden><div class=\"sk-item\"><div class=\"sk-estimator sk-toggleable\"><input class=\"sk-toggleable__control sk-hidden--visually\" id=\"sk-estimator-id-3\" type=\"checkbox\" checked><label for=\"sk-estimator-id-3\" class=\"sk-toggleable__label sk-toggleable__label-arrow\">XGBClassifier</label><div class=\"sk-toggleable__content\"><pre>XGBClassifier(base_score=None, booster=None, callbacks=None,\n",
       "              colsample_bylevel=None, colsample_bynode=None,\n",
       "              colsample_bytree=None, device=None, early_stopping_rounds=None,\n",
       "              enable_categorical=False, eval_metric=None, feature_types=None,\n",
       "              gamma=None, grow_policy=None, importance_type=None,\n",
       "              interaction_constraints=None, learning_rate=None, max_bin=None,\n",
       "              max_cat_threshold=None, max_cat_to_onehot=None,\n",
       "              max_delta_step=None, max_depth=None, max_leaves=None,\n",
       "              min_child_weight=None, missing=nan, monotone_constraints=None,\n",
       "              multi_strategy=None, n_estimators=None, n_jobs=None,\n",
       "              num_parallel_tree=None, random_state=None, ...)</pre></div></div></div></div></div>"
      ],
      "text/plain": [
       "XGBClassifier(base_score=None, booster=None, callbacks=None,\n",
       "              colsample_bylevel=None, colsample_bynode=None,\n",
       "              colsample_bytree=None, device=None, early_stopping_rounds=None,\n",
       "              enable_categorical=False, eval_metric=None, feature_types=None,\n",
       "              gamma=None, grow_policy=None, importance_type=None,\n",
       "              interaction_constraints=None, learning_rate=None, max_bin=None,\n",
       "              max_cat_threshold=None, max_cat_to_onehot=None,\n",
       "              max_delta_step=None, max_depth=None, max_leaves=None,\n",
       "              min_child_weight=None, missing=nan, monotone_constraints=None,\n",
       "              multi_strategy=None, n_estimators=None, n_jobs=None,\n",
       "              num_parallel_tree=None, random_state=None, ...)"
      ]
     },
     "execution_count": 290,
     "metadata": {},
     "output_type": "execute_result"
    }
   ],
   "source": [
    "xgb_cl = xgb.XGBClassifier()\n",
    "xgb_cl.fit(X_train, y_train)"
   ]
  },
  {
   "cell_type": "code",
   "execution_count": 291,
   "id": "03e9784e",
   "metadata": {},
   "outputs": [],
   "source": [
    "preds = xgb_cl.predict(X_test)"
   ]
  },
  {
   "cell_type": "code",
   "execution_count": 292,
   "id": "ad287f66",
   "metadata": {},
   "outputs": [
    {
     "name": "stdout",
     "output_type": "stream",
     "text": [
      "Model Accuracy: 0.9591397849462365\n",
      "Precision: 0.9439775910364145\n",
      "Recall: 0.9010695187165776\n",
      "F1 Score: 0.9220246238030095\n",
      "\n",
      "Confusion Matrix:\n",
      " [[1001   20]\n",
      " [  37  337]]\n",
      "\n",
      "Classification Report:\n",
      "               precision    recall  f1-score   support\n",
      "\n",
      "           0       0.96      0.98      0.97      1021\n",
      "           1       0.94      0.90      0.92       374\n",
      "\n",
      "    accuracy                           0.96      1395\n",
      "   macro avg       0.95      0.94      0.95      1395\n",
      "weighted avg       0.96      0.96      0.96      1395\n",
      "\n"
     ]
    }
   ],
   "source": [
    "acc = accuracy_score(y_test, preds)\n",
    "precision = precision_score(y_test, preds)\n",
    "recall = recall_score(y_test, preds)\n",
    "f1 = f1_score(y_test, preds)\n",
    "cm = confusion_matrix(y_test, preds)\n",
    "report = classification_report(y_test, preds)\n",
    "\n",
    "print(\"Model Accuracy:\", acc)\n",
    "print(\"Precision:\", precision)\n",
    "print(\"Recall:\", recall)\n",
    "print(\"F1 Score:\", f1)\n",
    "print(\"\\nConfusion Matrix:\\n\", cm)\n",
    "print(\"\\nClassification Report:\\n\", report)\n"
   ]
  },
  {
   "cell_type": "code",
   "execution_count": 294,
   "id": "0294f73d",
   "metadata": {},
   "outputs": [
    {
     "name": "stdout",
     "output_type": "stream",
     "text": [
      "Train Accuracy: 1.0\n"
     ]
    }
   ],
   "source": [
    "train_preds =  xgb_cl.predict(X_train)\n",
    "print(\"Train Accuracy:\", accuracy_score(y_train, train_preds))"
   ]
  },
  {
   "cell_type": "markdown",
   "id": "e3606a53",
   "metadata": {},
   "source": [
    "### Hyper-parameter Tuning\n",
    "\n",
    "While our model achieves a strong accuracy of 95.9% on the test dataset, the training accuracy is 100%, indicating signs of overfitting, where the model learns the training data too well but may not generalize as effectively to unseen data. I used GridSearchCV() to find the best parameters for our model. Even though it can be tuned multiple times, I just decided to tune it once."
   ]
  },
  {
   "cell_type": "code",
   "execution_count": 295,
   "id": "4dbd1189",
   "metadata": {},
   "outputs": [
    {
     "name": "stdout",
     "output_type": "stream",
     "text": [
      "The Best Score: 0.9900193688318676\n",
      "The Best Params: {'colsample_bytree': 1, 'gamma': 10, 'learning_rate': 0.05, 'max_depth': 5, 'reg_alpha': 0.1, 'reg_lambda': 10, 'scale_pos_weight': 2, 'subsample': 1}\n"
     ]
    }
   ],
   "source": [
    "#To address Overfitting, we can do hyperparameter tuning\n",
    "param_grid = {\n",
    "    \"max_depth\": [5],\n",
    "    \"learning_rate\": [0, 0.01, 0.05, 0.1],\n",
    "    \"gamma\": [1, 5, 10],\n",
    "    \"scale_pos_weight\": [2, 5, 10, 20],\n",
    "    \"subsample\": [1],\n",
    "    \"colsample_bytree\": [1],\n",
    "    \"reg_alpha\": [0, 0.1, 1],    # L1 regularization\n",
    "    \"reg_lambda\": [1, 5, 10]     # L2 regularization\n",
    "}\n",
    "\n",
    "xgb_cl2 = xgb.XGBClassifier(objective=\"binary:logistic\")\n",
    "grid_cv = GridSearchCV(xgb_cl2, param_grid, n_jobs=-1, cv=3, scoring=\"roc_auc\")\n",
    "_ = grid_cv.fit(X_train, y_train)\n",
    "print(\"The Best Score:\", grid_cv.best_score_)\n",
    "print(\"The Best Params:\", grid_cv.best_params_)"
   ]
  },
  {
   "cell_type": "code",
   "execution_count": 296,
   "id": "72005116",
   "metadata": {},
   "outputs": [],
   "source": [
    "final_cl = xgb.XGBClassifier(\n",
    "    **grid_cv.best_params_, objective=\"binary:logistic\"\n",
    ")\n",
    "grid_final = final_cl.fit(X_train, y_train)\n",
    "preds = grid_final.predict(X_test)"
   ]
  },
  {
   "cell_type": "code",
   "execution_count": 297,
   "id": "9aa46f4c",
   "metadata": {},
   "outputs": [
    {
     "name": "stdout",
     "output_type": "stream",
     "text": [
      "Model Accuracy: 0.9512544802867383\n",
      "Precision: 0.8844221105527639\n",
      "Recall: 0.9411764705882353\n",
      "F1 Score: 0.9119170984455959\n",
      "\n",
      "Confusion Matrix:\n",
      " [[975  46]\n",
      " [ 22 352]]\n",
      "\n",
      "Classification Report:\n",
      "               precision    recall  f1-score   support\n",
      "\n",
      "           0       0.98      0.95      0.97      1021\n",
      "           1       0.88      0.94      0.91       374\n",
      "\n",
      "    accuracy                           0.95      1395\n",
      "   macro avg       0.93      0.95      0.94      1395\n",
      "weighted avg       0.95      0.95      0.95      1395\n",
      "\n"
     ]
    }
   ],
   "source": [
    "acc = accuracy_score(y_test, preds)\n",
    "precision = precision_score(y_test, preds)\n",
    "recall = recall_score(y_test, preds)\n",
    "f1 = f1_score(y_test, preds)\n",
    "cm = confusion_matrix(y_test, preds)\n",
    "report = classification_report(y_test, preds)\n",
    "\n",
    "print(\"Model Accuracy:\", acc)\n",
    "print(\"Precision:\", precision)\n",
    "print(\"Recall:\", recall)\n",
    "print(\"F1 Score:\", f1)\n",
    "print(\"\\nConfusion Matrix:\\n\", cm)\n",
    "print(\"\\nClassification Report:\\n\", report)\n"
   ]
  },
  {
   "cell_type": "code",
   "execution_count": 298,
   "id": "2db70a75",
   "metadata": {},
   "outputs": [
    {
     "name": "stdout",
     "output_type": "stream",
     "text": [
      "Train Accuracy: 0.9537102473498233\n"
     ]
    }
   ],
   "source": [
    "train_preds =  grid_final.predict(X_train)\n",
    "print(\"Train Accuracy:\", accuracy_score(y_train, train_preds))"
   ]
  },
  {
   "cell_type": "markdown",
   "id": "0da1035c",
   "metadata": {},
   "source": [
    "### FINAL MODEL\n",
    "The final model maintains a similar overall accuracy, but shows improved recall, which is favorable for churn prediction as it helps capture more actual churn cases. Additionally, the training accuracy has decreased to 95.3%, reducing the gap with the test accuracy and indicating that the model is no longer overfitting."
   ]
  },
  {
   "cell_type": "code",
   "execution_count": 238,
   "id": "fd9b781f",
   "metadata": {},
   "outputs": [
    {
     "name": "stdout",
     "output_type": "stream",
     "text": [
      "Collecting shap\n",
      "  Downloading shap-0.47.2-cp39-cp39-win_amd64.whl.metadata (25 kB)\n",
      "Requirement already satisfied: numpy in c:\\users\\srish\\anaconda3\\lib\\site-packages (from shap) (1.26.3)\n",
      "Requirement already satisfied: scipy in c:\\users\\srish\\anaconda3\\lib\\site-packages (from shap) (1.11.4)\n",
      "Requirement already satisfied: scikit-learn in c:\\users\\srish\\anaconda3\\lib\\site-packages (from shap) (1.3.0)\n",
      "Requirement already satisfied: pandas in c:\\users\\srish\\anaconda3\\lib\\site-packages (from shap) (2.1.4)\n",
      "Requirement already satisfied: tqdm>=4.27.0 in c:\\users\\srish\\anaconda3\\lib\\site-packages (from shap) (4.65.0)\n",
      "Requirement already satisfied: packaging>20.9 in c:\\users\\srish\\anaconda3\\lib\\site-packages (from shap) (23.1)\n",
      "Collecting slicer==0.0.8 (from shap)\n",
      "  Downloading slicer-0.0.8-py3-none-any.whl.metadata (4.0 kB)\n",
      "Requirement already satisfied: numba>=0.54 in c:\\users\\srish\\anaconda3\\lib\\site-packages (from shap) (0.59.0)\n",
      "Requirement already satisfied: cloudpickle in c:\\users\\srish\\anaconda3\\lib\\site-packages (from shap) (2.2.1)\n",
      "Requirement already satisfied: typing-extensions in c:\\users\\srish\\anaconda3\\lib\\site-packages (from shap) (4.12.2)\n",
      "Requirement already satisfied: llvmlite<0.43,>=0.42.0dev0 in c:\\users\\srish\\anaconda3\\lib\\site-packages (from numba>=0.54->shap) (0.42.0)\n",
      "Requirement already satisfied: colorama in c:\\users\\srish\\anaconda3\\lib\\site-packages (from tqdm>=4.27.0->shap) (0.4.6)\n",
      "Requirement already satisfied: python-dateutil>=2.8.2 in c:\\users\\srish\\anaconda3\\lib\\site-packages (from pandas->shap) (2.9.0.post0)\n",
      "Requirement already satisfied: pytz>=2020.1 in c:\\users\\srish\\anaconda3\\lib\\site-packages (from pandas->shap) (2023.3.post1)\n",
      "Requirement already satisfied: tzdata>=2022.1 in c:\\users\\srish\\anaconda3\\lib\\site-packages (from pandas->shap) (2023.3)\n",
      "Requirement already satisfied: six>=1.5 in c:\\users\\srish\\anaconda3\\lib\\site-packages (from python-dateutil>=2.8.2->pandas->shap) (1.16.0)\n",
      "Requirement already satisfied: joblib>=1.1.1 in c:\\users\\srish\\anaconda3\\lib\\site-packages (from scikit-learn->shap) (1.2.0)\n",
      "Requirement already satisfied: threadpoolctl>=2.0.0 in c:\\users\\srish\\anaconda3\\lib\\site-packages (from scikit-learn->shap) (2.2.0)\n",
      "Downloading shap-0.47.2-cp39-cp39-win_amd64.whl (544 kB)\n",
      "   ---------------------------------------- 0.0/544.8 kB ? eta -:--:--\n",
      "   ---------------------------------------- 544.8/544.8 kB 4.6 MB/s eta 0:00:00\n",
      "Downloading slicer-0.0.8-py3-none-any.whl (15 kB)\n",
      "Installing collected packages: slicer, shap\n",
      "\n",
      "   -------------------- ------------------- 1/2 [shap]\n",
      "   -------------------- ------------------- 1/2 [shap]\n",
      "   -------------------- ------------------- 1/2 [shap]\n",
      "   -------------------- ------------------- 1/2 [shap]\n",
      "   -------------------- ------------------- 1/2 [shap]\n",
      "   -------------------- ------------------- 1/2 [shap]\n",
      "   -------------------- ------------------- 1/2 [shap]\n",
      "   -------------------- ------------------- 1/2 [shap]\n",
      "   -------------------- ------------------- 1/2 [shap]\n",
      "   -------------------- ------------------- 1/2 [shap]\n",
      "   ---------------------------------------- 2/2 [shap]\n",
      "\n",
      "Successfully installed shap-0.47.2 slicer-0.0.8\n"
     ]
    }
   ],
   "source": [
    "!pip install shap"
   ]
  },
  {
   "cell_type": "code",
   "execution_count": 299,
   "id": "b2e16c99",
   "metadata": {},
   "outputs": [],
   "source": [
    "import shap "
   ]
  },
  {
   "cell_type": "markdown",
   "id": "2cc02df7",
   "metadata": {},
   "source": [
    "### SHAP(SHapley Additive exPlanations)\n",
    "To enhance model interpretability, we used SHAP (SHapley Additive exPlanations) to analyze feature importance. SHAP values helped us understand the contribution of each feature to individual predictions, allowing us to identify which variables had the most significant impact on customer churn. This provided valuable insights into the underlying drivers of churn behavior in the dataset."
   ]
  },
  {
   "cell_type": "code",
   "execution_count": 300,
   "id": "7686e601",
   "metadata": {},
   "outputs": [],
   "source": [
    "explainer = shap.TreeExplainer(grid_final)\n",
    "\n",
    "#Calculate SHAP values for your dataset (typically test set or a sample)\n",
    "shap_values = explainer.shap_values(X_test)"
   ]
  },
  {
   "cell_type": "code",
   "execution_count": 301,
   "id": "41a87b77",
   "metadata": {},
   "outputs": [
    {
     "data": {
      "image/png": "[encoded data removed]",
      "text/plain": [
       "<Figure size 800x950 with 2 Axes>"
      ]
     },
     "metadata": {},
     "output_type": "display_data"
    }
   ],
   "source": [
    "shap.summary_plot(shap_values, X_test)"
   ]
  },
  {
   "cell_type": "code",
   "execution_count": 302,
   "id": "94e850c9",
   "metadata": {},
   "outputs": [
    {
     "data": {
      "image/png": "[encoded data removed]",
      "text/plain": [
       "<Figure size 800x950 with 1 Axes>"
      ]
     },
     "metadata": {},
     "output_type": "display_data"
    }
   ],
   "source": [
    "shap.summary_plot(shap_values, X_test, plot_type=\"bar\")\n"
   ]
  },
  {
   "cell_type": "markdown",
   "id": "fda06a51",
   "metadata": {},
   "source": [
    "Upon analyzing SHAP values, we observed that Satisfaction Score was the most influential feature in predicting churn by a significant margin. This raised an important question: Is the model overly reliant on this single feature? To evaluate its true predictive power, we tested the model's performance after dropping the Satisfaction Score to see whether it could still generalize effectively."
   ]
  },
  {
   "cell_type": "code",
   "execution_count": 305,
   "id": "cbe79adb",
   "metadata": {},
   "outputs": [],
   "source": [
    "X_train.drop(\"Satisfaction Score\", axis=1, inplace=True)\n",
    "X_test.drop(\"Satisfaction Score\", axis=1, inplace=True)"
   ]
  },
  {
   "cell_type": "code",
   "execution_count": 306,
   "id": "88ff27d7",
   "metadata": {},
   "outputs": [
    {
     "data": {
      "text/html": [
       "<style>#sk-container-id-4 {color: black;}#sk-container-id-4 pre{padding: 0;}#sk-container-id-4 div.sk-toggleable {background-color: white;}#sk-container-id-4 label.sk-toggleable__label {cursor: pointer;display: block;width: 100%;margin-bottom: 0;padding: 0.3em;box-sizing: border-box;text-align: center;}#sk-container-id-4 label.sk-toggleable__label-arrow:before {content: \"▸\";float: left;margin-right: 0.25em;color: #696969;}#sk-container-id-4 label.sk-toggleable__label-arrow:hover:before {color: black;}#sk-container-id-4 div.sk-estimator:hover label.sk-toggleable__label-arrow:before {color: black;}#sk-container-id-4 div.sk-toggleable__content {max-height: 0;max-width: 0;overflow: hidden;text-align: left;background-color: #f0f8ff;}#sk-container-id-4 div.sk-toggleable__content pre {margin: 0.2em;color: black;border-radius: 0.25em;background-color: #f0f8ff;}#sk-container-id-4 input.sk-toggleable__control:checked~div.sk-toggleable__content {max-height: 200px;max-width: 100%;overflow: auto;}#sk-container-id-4 input.sk-toggleable__control:checked~label.sk-toggleable__label-arrow:before {content: \"▾\";}#sk-container-id-4 div.sk-estimator input.sk-toggleable__control:checked~label.sk-toggleable__label {background-color: #d4ebff;}#sk-container-id-4 div.sk-label input.sk-toggleable__control:checked~label.sk-toggleable__label {background-color: #d4ebff;}#sk-container-id-4 input.sk-hidden--visually {border: 0;clip: rect(1px 1px 1px 1px);clip: rect(1px, 1px, 1px, 1px);height: 1px;margin: -1px;overflow: hidden;padding: 0;position: absolute;width: 1px;}#sk-container-id-4 div.sk-estimator {font-family: monospace;background-color: #f0f8ff;border: 1px dotted black;border-radius: 0.25em;box-sizing: border-box;margin-bottom: 0.5em;}#sk-container-id-4 div.sk-estimator:hover {background-color: #d4ebff;}#sk-container-id-4 div.sk-parallel-item::after {content: \"\";width: 100%;border-bottom: 1px solid gray;flex-grow: 1;}#sk-container-id-4 div.sk-label:hover label.sk-toggleable__label {background-color: #d4ebff;}#sk-container-id-4 div.sk-serial::before {content: \"\";position: absolute;border-left: 1px solid gray;box-sizing: border-box;top: 0;bottom: 0;left: 50%;z-index: 0;}#sk-container-id-4 div.sk-serial {display: flex;flex-direction: column;align-items: center;background-color: white;padding-right: 0.2em;padding-left: 0.2em;position: relative;}#sk-container-id-4 div.sk-item {position: relative;z-index: 1;}#sk-container-id-4 div.sk-parallel {display: flex;align-items: stretch;justify-content: center;background-color: white;position: relative;}#sk-container-id-4 div.sk-item::before, #sk-container-id-4 div.sk-parallel-item::before {content: \"\";position: absolute;border-left: 1px solid gray;box-sizing: border-box;top: 0;bottom: 0;left: 50%;z-index: -1;}#sk-container-id-4 div.sk-parallel-item {display: flex;flex-direction: column;z-index: 1;position: relative;background-color: white;}#sk-container-id-4 div.sk-parallel-item:first-child::after {align-self: flex-end;width: 50%;}#sk-container-id-4 div.sk-parallel-item:last-child::after {align-self: flex-start;width: 50%;}#sk-container-id-4 div.sk-parallel-item:only-child::after {width: 0;}#sk-container-id-4 div.sk-dashed-wrapped {border: 1px dashed gray;margin: 0 0.4em 0.5em 0.4em;box-sizing: border-box;padding-bottom: 0.4em;background-color: white;}#sk-container-id-4 div.sk-label label {font-family: monospace;font-weight: bold;display: inline-block;line-height: 1.2em;}#sk-container-id-4 div.sk-label-container {text-align: center;}#sk-container-id-4 div.sk-container {/* jupyter's `normalize.less` sets `[hidden] { display: none; }` but bootstrap.min.css set `[hidden] { display: none !important; }` so we also need the `!important` here to be able to override the default hidden behavior on the sphinx rendered scikit-learn.org. See: https://github.com/scikit-learn/scikit-learn/issues/21755 */display: inline-block !important;position: relative;}#sk-container-id-4 div.sk-text-repr-fallback {display: none;}</style><div id=\"sk-container-id-4\" class=\"sk-top-container\"><div class=\"sk-text-repr-fallback\"><pre>XGBClassifier(base_score=None, booster=None, callbacks=None,\n",
       "              colsample_bylevel=None, colsample_bynode=None,\n",
       "              colsample_bytree=None, device=None, early_stopping_rounds=None,\n",
       "              enable_categorical=False, eval_metric=None, feature_types=None,\n",
       "              gamma=None, grow_policy=None, importance_type=None,\n",
       "              interaction_constraints=None, learning_rate=None, max_bin=None,\n",
       "              max_cat_threshold=None, max_cat_to_onehot=None,\n",
       "              max_delta_step=None, max_depth=None, max_leaves=None,\n",
       "              min_child_weight=None, missing=nan, monotone_constraints=None,\n",
       "              multi_strategy=None, n_estimators=None, n_jobs=None,\n",
       "              num_parallel_tree=None, random_state=None, ...)</pre><b>In a Jupyter environment, please rerun this cell to show the HTML representation or trust the notebook. <br />On GitHub, the HTML representation is unable to render, please try loading this page with nbviewer.org.</b></div><div class=\"sk-container\" hidden><div class=\"sk-item\"><div class=\"sk-estimator sk-toggleable\"><input class=\"sk-toggleable__control sk-hidden--visually\" id=\"sk-estimator-id-4\" type=\"checkbox\" checked><label for=\"sk-estimator-id-4\" class=\"sk-toggleable__label sk-toggleable__label-arrow\">XGBClassifier</label><div class=\"sk-toggleable__content\"><pre>XGBClassifier(base_score=None, booster=None, callbacks=None,\n",
       "              colsample_bylevel=None, colsample_bynode=None,\n",
       "              colsample_bytree=None, device=None, early_stopping_rounds=None,\n",
       "              enable_categorical=False, eval_metric=None, feature_types=None,\n",
       "              gamma=None, grow_policy=None, importance_type=None,\n",
       "              interaction_constraints=None, learning_rate=None, max_bin=None,\n",
       "              max_cat_threshold=None, max_cat_to_onehot=None,\n",
       "              max_delta_step=None, max_depth=None, max_leaves=None,\n",
       "              min_child_weight=None, missing=nan, monotone_constraints=None,\n",
       "              multi_strategy=None, n_estimators=None, n_jobs=None,\n",
       "              num_parallel_tree=None, random_state=None, ...)</pre></div></div></div></div></div>"
      ],
      "text/plain": [
       "XGBClassifier(base_score=None, booster=None, callbacks=None,\n",
       "              colsample_bylevel=None, colsample_bynode=None,\n",
       "              colsample_bytree=None, device=None, early_stopping_rounds=None,\n",
       "              enable_categorical=False, eval_metric=None, feature_types=None,\n",
       "              gamma=None, grow_policy=None, importance_type=None,\n",
       "              interaction_constraints=None, learning_rate=None, max_bin=None,\n",
       "              max_cat_threshold=None, max_cat_to_onehot=None,\n",
       "              max_delta_step=None, max_depth=None, max_leaves=None,\n",
       "              min_child_weight=None, missing=nan, monotone_constraints=None,\n",
       "              multi_strategy=None, n_estimators=None, n_jobs=None,\n",
       "              num_parallel_tree=None, random_state=None, ...)"
      ]
     },
     "execution_count": 306,
     "metadata": {},
     "output_type": "execute_result"
    }
   ],
   "source": [
    "xgb_cl = xgb.XGBClassifier()\n",
    "xgb_cl.fit(X_train, y_train)"
   ]
  },
  {
   "cell_type": "code",
   "execution_count": 307,
   "id": "3b53107d",
   "metadata": {},
   "outputs": [],
   "source": [
    "preds = xgb_cl.predict(X_test)"
   ]
  },
  {
   "cell_type": "code",
   "execution_count": 308,
   "id": "693cdbaf",
   "metadata": {},
   "outputs": [
    {
     "name": "stdout",
     "output_type": "stream",
     "text": [
      "Model Accuracy: 0.8401433691756273\n",
      "Precision: 0.7308868501529052\n",
      "Recall: 0.6390374331550802\n",
      "F1 Score: 0.68188302425107\n",
      "\n",
      "Confusion Matrix:\n",
      " [[933  88]\n",
      " [135 239]]\n",
      "\n",
      "Classification Report:\n",
      "               precision    recall  f1-score   support\n",
      "\n",
      "           0       0.87      0.91      0.89      1021\n",
      "           1       0.73      0.64      0.68       374\n",
      "\n",
      "    accuracy                           0.84      1395\n",
      "   macro avg       0.80      0.78      0.79      1395\n",
      "weighted avg       0.84      0.84      0.84      1395\n",
      "\n"
     ]
    }
   ],
   "source": [
    "acc = accuracy_score(y_test, preds)\n",
    "precision = precision_score(y_test, preds)\n",
    "recall = recall_score(y_test, preds)\n",
    "f1 = f1_score(y_test, preds)\n",
    "cm = confusion_matrix(y_test, preds)\n",
    "report = classification_report(y_test, preds)\n",
    "\n",
    "print(\"Model Accuracy:\", acc)\n",
    "print(\"Precision:\", precision)\n",
    "print(\"Recall:\", recall)\n",
    "print(\"F1 Score:\", f1)\n",
    "print(\"\\nConfusion Matrix:\\n\", cm)\n",
    "print(\"\\nClassification Report:\\n\", report)"
   ]
  },
  {
   "cell_type": "code",
   "execution_count": 309,
   "id": "b1c00462",
   "metadata": {},
   "outputs": [
    {
     "name": "stdout",
     "output_type": "stream",
     "text": [
      "Train Accuracy: 1.0\n"
     ]
    }
   ],
   "source": [
    "train_preds =  xgb_cl.predict(X_train)\n",
    "print(\"Train Accuracy:\", accuracy_score(y_train, train_preds))"
   ]
  },
  {
   "cell_type": "code",
   "execution_count": 310,
   "id": "0f16a3df",
   "metadata": {},
   "outputs": [
    {
     "name": "stdout",
     "output_type": "stream",
     "text": [
      "The Best Score: 0.8962546764088678\n",
      "The Best Params: {'colsample_bytree': 1, 'gamma': 5, 'learning_rate': 0.1, 'max_depth': 5, 'reg_alpha': 0.1, 'reg_lambda': 10, 'scale_pos_weight': 2, 'subsample': 1}\n"
     ]
    }
   ],
   "source": [
    "#Address Overfitting\n",
    "param_grid = {\n",
    "    \"max_depth\": [5],\n",
    "    \"learning_rate\": [0, 0.01, 0.05, 0.1],\n",
    "    \"gamma\": [1, 5, 10],\n",
    "    \"scale_pos_weight\": [2, 5, 10, 20],\n",
    "    \"subsample\": [1],\n",
    "    \"colsample_bytree\": [1],\n",
    "    \"reg_alpha\": [0, 0.1, 1],    # L1 regularization\n",
    "    \"reg_lambda\": [1, 5, 10]     # L2 regularization\n",
    "}\n",
    "\n",
    "xgb_cl2 = xgb.XGBClassifier(objective=\"binary:logistic\")\n",
    "grid_cv = GridSearchCV(xgb_cl2, param_grid, n_jobs=-1, cv=3, scoring=\"roc_auc\")\n",
    "_ = grid_cv.fit(X_train, y_train)\n",
    "print(\"The Best Score:\", grid_cv.best_score_)\n",
    "print(\"The Best Params:\", grid_cv.best_params_)"
   ]
  },
  {
   "cell_type": "code",
   "execution_count": 317,
   "id": "e336ea81",
   "metadata": {},
   "outputs": [],
   "source": [
    "final_cl = xgb.XGBClassifier(\n",
    "    **grid_cv.best_params_, objective=\"binary:logistic\"\n",
    ")\n",
    "grid_final = final_cl.fit(X_train, y_train)\n",
    "preds = grid_final.predict(X_test)\n",
    "train_preds =  grid_final.predict(X_train)"
   ]
  },
  {
   "cell_type": "code",
   "execution_count": 318,
   "id": "2da8a5d0",
   "metadata": {},
   "outputs": [
    {
     "name": "stdout",
     "output_type": "stream",
     "text": [
      "Model Accuracy: 0.832258064516129\n",
      "Precision: 0.6535087719298246\n",
      "Recall: 0.7967914438502673\n",
      "F1 Score: 0.7180722891566266\n",
      "\n",
      "Confusion Matrix:\n",
      " [[863 158]\n",
      " [ 76 298]]\n",
      "\n",
      "Classification Report:\n",
      "               precision    recall  f1-score   support\n",
      "\n",
      "           0       0.92      0.85      0.88      1021\n",
      "           1       0.65      0.80      0.72       374\n",
      "\n",
      "    accuracy                           0.83      1395\n",
      "   macro avg       0.79      0.82      0.80      1395\n",
      "weighted avg       0.85      0.83      0.84      1395\n",
      "\n",
      "Train Accuracy: 0.8618374558303887\n"
     ]
    }
   ],
   "source": [
    "acc = accuracy_score(y_test, preds)\n",
    "precision = precision_score(y_test, preds)\n",
    "recall = recall_score(y_test, preds)\n",
    "f1 = f1_score(y_test, preds)\n",
    "cm = confusion_matrix(y_test, preds)\n",
    "report = classification_report(y_test, preds)\n",
    "\n",
    "print(\"Model Accuracy:\", acc)\n",
    "print(\"Precision:\", precision)\n",
    "print(\"Recall:\", recall)\n",
    "print(\"F1 Score:\", f1)\n",
    "print(\"\\nConfusion Matrix:\\n\", cm)\n",
    "print(\"\\nClassification Report:\\n\", report)\n",
    "print(\"Train Accuracy:\", accuracy_score(y_train, train_preds))"
   ]
  },
  {
   "cell_type": "markdown",
   "id": "9dc248dd",
   "metadata": {},
   "source": [
    "After hyperparameter tuning, we observed improvements in both recall and F1-score, while the overall accuracy remained nearly the same. Notably, the training accuracy dropped from 100% to 86.1%, indicating a significant reduction in overfitting and better generalization to unseen data."
   ]
  },
  {
   "cell_type": "code",
   "execution_count": 313,
   "id": "ad8393d7",
   "metadata": {},
   "outputs": [],
   "source": [
    "explainer = shap.TreeExplainer(grid_final)\n",
    "\n",
    "#Calculate SHAP values for your dataset (typically test set or a sample)\n",
    "shap_values = explainer.shap_values(X_test)"
   ]
  },
  {
   "cell_type": "code",
   "execution_count": 314,
   "id": "7574a1cd",
   "metadata": {},
   "outputs": [
    {
     "data": {
      "image/png": "[encoded data removed]",
      "text/plain": [
       "<Figure size 800x950 with 2 Axes>"
      ]
     },
     "metadata": {},
     "output_type": "display_data"
    }
   ],
   "source": [
    "shap.summary_plot(shap_values, X_test)"
   ]
  },
  {
   "cell_type": "code",
   "execution_count": 315,
   "id": "c709799b",
   "metadata": {},
   "outputs": [
    {
     "data": {
      "image/png": "[encoded data removed]",
      "text/plain": [
       "<Figure size 800x950 with 1 Axes>"
      ]
     },
     "metadata": {},
     "output_type": "display_data"
    }
   ],
   "source": [
    "shap.summary_plot(shap_values, X_test, plot_type=\"bar\")"
   ]
  },
  {
   "cell_type": "markdown",
   "id": "8625cbd5",
   "metadata": {},
   "source": [
    "### CONCLUSION\n",
    "\n",
    "The updated model, after removing the Satisfaction Score, achieved an accuracy of 83.2%. While this represents a drop from the previous performance, it confirms that the model can still make meaningful predictions without over-relying on a single feature. Additionally, SHAP analysis now shows a more balanced contribution from multiple features, indicating a more robust and interpretable model."
   ]
  }
 ],
 "metadata": {
  "kernelspec": {
   "display_name": "Python 3 (ipykernel)",
   "language": "python",
   "name": "python3"
  },
  "language_info": {
   "codemirror_mode": {
    "name": "ipython",
    "version": 3
   },
   "file_extension": ".py",
   "mimetype": "text/x-python",
   "name": "python",
   "nbconvert_exporter": "python",
   "pygments_lexer": "ipython3",
   "version": "3.9.18"
  }
 },
 "nbformat": 4,
 "nbformat_minor": 5
}
